{
 "cells": [
  {
   "cell_type": "code",
   "execution_count": null,
   "metadata": {
    "vscode": {
     "languageId": "yaml"
    }
   },
   "outputs": [],
   "source": [
    "---\n",
    "comments: True\n",
    "layout: post\n",
    "title: Iteration Homework\n",
    "description: An intro to data abstraction\n",
    "permalink: /csse/javascript/fundamentals/iteration/hw\n",
    "categories: [CSSE JavaScript Fundamentals]\n",
    "---"
   ]
  },
  {
   "cell_type": "markdown",
   "metadata": {},
   "source": [
    "## Homework Assignment: for Loop Challenge\n",
    "Task: Create a program that does the following:\n",
    "\n",
    "Initialize an array with the names of five of your favorite movies.\n",
    "Use a for loop to iterate through the array and print each movie name to the console.\n",
    "After printing all movie names, print a message indicating how many movies you listed."
   ]
  },
  {
   "cell_type": "markdown",
   "metadata": {},
   "source": [
    "# **Homework**\n",
    "\n",
    "Create a **3 by 3, 2D list** that represents a **tictactoe board**.\n",
    "Use **\"X\"** for X, **\"O\"** for O, and **None** for empty tiles.\n",
    "\n",
    "Ex. board = [[\"X\",\"None\",\"O\"],  \n",
    "&emsp;&emsp;&emsp;&emsp;&emsp;&emsp;&ensp;[\"X\",\"O\",\"None\"],  \n",
    "&emsp;&emsp;&emsp;&emsp;&emsp;&emsp;&ensp;[\"O\",\"None\",\"X\"]]\n",
    "\n",
    "Iterate over the board and **identify whether it is player X's or player O's turn.**\n",
    "\n",
    "**Hint**: count the number of moves(non-None). (X goes first)\n",
    "\n",
    "**Optional**: use console.error() to report an error if the board is illegal (ex. 7 \"X\"s and 2 \"O\"s)"
   ]
  }
 ],
 "metadata": {
  "language_info": {
   "name": "python"
  }
 },
 "nbformat": 4,
 "nbformat_minor": 2
}
