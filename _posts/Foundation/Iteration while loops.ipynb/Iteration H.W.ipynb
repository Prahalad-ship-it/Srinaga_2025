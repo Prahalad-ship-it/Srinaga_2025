{
 "cells": [
  {
   "cell_type": "markdown",
   "metadata": {},
   "source": [
    "## H.W. Directions\n",
    "\n",
    "To demonstrate your knowledge abput while loops and nested loops we did during class here is your directions \n"
   ]
  }
 ],
 "metadata": {
  "language_info": {
   "name": "python"
  }
 },
 "nbformat": 4,
 "nbformat_minor": 2
}
