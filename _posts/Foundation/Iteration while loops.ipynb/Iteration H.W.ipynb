{
 "cells": [
  {
   "cell_type": "markdown",
   "metadata": {},
   "source": [
    "## H.W. Directions\n",
    "\n",
    "To demonstrate your knowledge abput while loops and nested loops we did during class here is your directions \n",
    "\n",
    "Use a nested while loop to create a multiplication table.\n",
    "The outer loop should iterate through the numbers 1 to 10 (representing the first factor).\n",
    "The inner loop should also iterate through the numbers 1 to 10 (representing the second factor).\n",
    "For each combination of the outer and inner loop, calculate the product and print it in a formatted way.\n",
    "Format the output so that each row of the table shows the results of multiplying the outer loop's current value by the inner loop's values.\n",
    "Make sure your program outputs the table in a readable format.\n"
   ]
  }
 ],
 "metadata": {
  "language_info": {
   "name": "python"
  }
 },
 "nbformat": 4,
 "nbformat_minor": 2
}
