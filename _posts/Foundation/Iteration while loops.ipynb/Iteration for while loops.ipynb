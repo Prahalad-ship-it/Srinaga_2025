{
 "cells": [
  {
   "cell_type": "raw",
   "metadata": {
    "vscode": {
     "languageId": "raw"
    }
   },
   "source": [
    "---\n",
    "layout: post\n",
    "title: 3.8.1 While loops\n",
    "author: Srinaga Pillutla \n",
    "description: Basic concept for while loops\n",
    "permalink: /csp/big-idea/p4/3-8-1\n",
    "Joke of Day: what type of data ghosts love: Boo-Lean \n",
    "\n",
    "---"
   ]
  },
  {
   "cell_type": "markdown",
   "metadata": {
    "vscode": {
     "languageId": "javascript"
    }
   },
   "source": [
    "## Basic Overview\n",
    "\n",
    "Condition is always true if the condition is true you have seen it in math have you? 🙃\n",
    "An example is x<8 or X>y or x>8\n",
    "\n",
    "In inside the code you can run any code you want anything you want but it has to be true to statement\n",
    "\n",
    "## What happens inside the code \n",
    "If you run the code it will run for infinate times unless, the statement is false then it will stop and continue to next line or stop oif it is last code \n",
    "\n",
    "an example can be s`een down here \n",
    "The counter which is number set is = 0 and 0<10\n",
    "and then it prints each number by +1 \n",
    "\n",
    "\n"
   ]
  },
  {
   "cell_type": "code",
   "execution_count": 1,
   "metadata": {},
   "outputs": [
    {
     "name": "stdout",
     "output_type": "stream",
     "text": [
      "Counter is: 0\n",
      "Counter after incrementing: 1\n",
      "Counter is: 1\n",
      "Counter after incrementing: 2\n",
      "Counter is: 2\n",
      "Counter after incrementing: 3\n",
      "Counter is: 3\n",
      "Counter after incrementing: 4\n",
      "Counter is: 4\n",
      "Counter after incrementing: 5\n",
      "Counter is: 5\n",
      "Counter after incrementing: 6\n",
      "Counter is: 6\n",
      "Counter after incrementing: 7\n",
      "Counter is: 7\n",
      "Counter after incrementing: 8\n",
      "Counter is: 8\n",
      "Counter after incrementing: 9\n",
      "Counter is: 9\n",
      "Counter after incrementing: 10\n",
      "Counter is: 10\n",
      "Counter after incrementing: 11\n"
     ]
    }
   ],
   "source": [
    "counter = 0\n",
    "while counter <= 10:\n",
    "    print(\"Counter is:\", counter)\n",
    "    counter += 1\n",
    "    print(\"Counter after incrementing:\", counter)\n"
   ]
  },
  {
   "cell_type": "code",
   "execution_count": 3,
   "metadata": {
    "vscode": {
     "languageId": "javascript"
    }
   },
   "outputs": [
    {
     "data": {
      "application/javascript": "// Initialize a variable\nlet counter = 0;\n\n// While loop starts\nwhile (counter <= 10) {\n    console.log(\"Counter is: \" + counter);\n    counter++;\n}\n",
      "text/plain": [
       "<IPython.core.display.Javascript object>"
      ]
     },
     "metadata": {},
     "output_type": "display_data"
    }
   ],
   "source": [
    "%%js\n",
    "// Initialize a variable\n",
    "let counter = 0;\n",
    "\n",
    "// While loop starts\n",
    "while (counter <= 10) {\n",
    "    console.log(\"Counter is: \" + counter);\n",
    "    counter++;\n",
    "}"
   ]
  },
  {
   "cell_type": "markdown",
   "metadata": {
    "vscode": {
     "languageId": "javascript"
    }
   },
   "source": [
    "##Nested Loop \n",
    "\n",
    "No It is not loop inside a eagle's Nest although if you are thinking about it almost simliarliy then you might not eb wrong here what I Mean4\n",
    "\n",
    "- Nested Loop : Nested loops are loops placed inside one another. They allow you to perform operations multiple times for each iteration of the outer loop\n",
    "*** Important Note : You might be wondering why is Nested Loop So important it is lame and stupid? If you say so lil bro here is the reason  \n",
    "\n",
    "- They are useful when you need to execute a set of operations for each item in a collection or when you want to handle multiple dimensions (like rows and columns in a grid).\n",
    " \n",
    " - In other words They are useful when you want to repeat a set of actions for each item in a group or to work with things that have multiple parts, like rows and columns in a table.\n",
    "\n",
    " We will have example look at it. \n",
    "\n",
    "\n",
    "\n",
    "\n",
    "\n"
   ]
  },
  {
   "cell_type": "code",
   "execution_count": 12,
   "metadata": {
    "vscode": {
     "languageId": "javascript"
    }
   },
   "outputs": [
    {
     "data": {
      "application/javascript": "let firstName = \"Srinaga \";\nlet middleName = \"Prahalad \";\nlet lastName = \"Pillutla\";\n\n// Repeat this entire block 4 times\nfor (let i = 0; i < 4; i++) {\n    console.log(firstName);      // Print first name once\n    console.log(middleName);     // Print middle name twice\n    console.log(middleName);\n    console.log(lastName);       // Print last name three times\n    console.log(lastName);\n    console.log(lastName);\n}\n",
      "text/plain": [
       "<IPython.core.display.Javascript object>"
      ]
     },
     "metadata": {},
     "output_type": "display_data"
    }
   ],
   "source": [
    "%%js \n",
    "let firstName = \"Srinaga \";\n",
    "let middleName = \"Prahalad \";\n",
    "let lastName = \"Pillutla\";\n",
    "\n",
    "// Repeat this entire block 4 times\n",
    "for (let i = 0; i < 4; i++) {\n",
    "    console.log(firstName);      // Print first name once\n",
    "    console.log(middleName);     // Print middle name twice\n",
    "    console.log(middleName);\n",
    "    console.log(lastName);       // Print last name three times\n",
    "    console.log(lastName);\n",
    "    console.log(lastName);\n",
    "}\n"
   ]
  }
 ],
 "metadata": {
  "kernelspec": {
   "display_name": "Python 3 (ipykernel)",
   "language": "python",
   "name": "python3"
  },
  "language_info": {
   "codemirror_mode": {
    "name": "ipython",
    "version": 3
   },
   "file_extension": ".py",
   "mimetype": "text/x-python",
   "name": "python",
   "nbconvert_exporter": "python",
   "pygments_lexer": "ipython3",
   "version": "3.12.3"
  }
 },
 "nbformat": 4,
 "nbformat_minor": 2
}
