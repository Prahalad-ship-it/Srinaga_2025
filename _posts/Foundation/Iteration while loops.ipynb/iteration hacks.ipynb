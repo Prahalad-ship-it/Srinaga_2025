{
 "cells": [
  {
   "cell_type": "markdown",
   "metadata": {},
   "source": [
    "##Poppcorn Hack 1\n",
    "\n",
    "Create a new code cell follow these steps here \n",
    " - counter should be less than <5\n",
    " - it should loop\n",
    " a hint Pls just follow the steps on the example one i hope this will help Code Code Code 🧑‍💻🧑‍💻🧑‍💻🧑‍💻🧑‍💻🧑‍💻\n",
    "\n"
   ]
  },
  {
   "cell_type": "markdown",
   "metadata": {},
   "source": [
    "##Popcorn hack 2#\n",
    "\n",
    "Now create a New code Cell and do it for JavaScript and make sure to follow these directions\n",
    " - counter should be this <11\n",
    " - it should loop \n",
    " - and should be in Console.log \n",
    "  "
   ]
  },
  {
   "cell_type": "markdown",
   "metadata": {},
   "source": [
    "## Popcorn Hack 3 \n",
    "\n",
    "for JavaScript Now, let’s create the code that prints your favorite singer, their middle name, and their last name as specified and o it for JavaScript and Optinol Extra Credit do it for Python lemem know if you got it. :D \n"
   ]
  }
 ],
 "metadata": {
  "language_info": {
   "name": "python"
  }
 },
 "nbformat": 4,
 "nbformat_minor": 2
}
