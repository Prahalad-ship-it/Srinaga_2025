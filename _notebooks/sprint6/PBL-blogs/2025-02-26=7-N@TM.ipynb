{
 "cells": [
  {
   "cell_type": "raw",
   "metadata": {
    "vscode": {
     "languageId": "raw"
    }
   },
   "source": [
    "---\n",
    "author: Srinaga Pillutla\n",
    "layout: post\n",
    "title: HTML5\n",
    "description: A blog understanding about HTML5 input and output\n",
    "permalink: PBL-Blog/HTML5\n",
    "toc: true\n",
    "comments: true\n",
    "categories: CSSE\n",
    "---"
   ]
  }
 ],
 "metadata": {
  "language_info": {
   "name": "python"
  }
 },
 "nbformat": 4,
 "nbformat_minor": 2
}
