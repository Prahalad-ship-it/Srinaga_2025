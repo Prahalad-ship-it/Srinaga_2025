{
 "cells": [
  {
   "cell_type": "raw",
   "metadata": {
    "vscode": {
     "languageId": "raw"
    }
   },
   "source": [
    "---\n",
    "author: Srinaga Pillutla\n",
    "layout: post\n",
    "title: Classes\n",
    "description: A blog understanding about diffrent types of Classes\n",
    "permalink: PBL-Blog/Classes\n",
    "toc: true\n",
    "comments: true\n",
    "categories: CSSE\n",
    "---"
   ]
  },
  {
   "cell_type": "markdown",
   "metadata": {},
   "source": [
    "- Diffrent types of Methods \n",
    "    - length(): Determines and returns the total number of characters in a string.\n",
    "    - indexOf(): Finds and returns the position of a specified character or substring within a string.\n",
    "    - charAt(): Retrieves the character located at a specific index in the string.\n",
    "    - substring(): Extracts and returns a part of the string based on specified start and end indices.\n",
    "    - toUpperCase(): Converts all characters in the string to uppercase.\n",
    "    - toLowerCase(): Converts all characters in the string to lowercase.\n",
    "    - trim(): Removes any leading and trailing spaces from the string.\n"
   ]
  },
  {
   "cell_type": "markdown",
   "metadata": {},
   "source": [
    "also you an use methos to create arrays also for methods which is super efficent for conditonals or loop in your game like in quest where you have to collect or talk with diffrent npcs "
   ]
  },
  {
   "cell_type": "code",
   "execution_count": null,
   "metadata": {
    "vscode": {
     "languageId": "javascript"
    }
   },
   "outputs": [],
   "source": [
    "let numbers = [17, 22, 35, 41, 58];\n",
    "\n",
    "// Display the total number of elements\n",
    "console.log(\"Total elements:\", numbers.length);\n",
    "\n",
    "// Access and display the fourth element\n",
    "console.log(\"Fourth element:\", numbers.at(3));\n"
   ]
  },
  {
   "cell_type": "markdown",
   "metadata": {},
   "source": [
    "Instating Object:\n",
    "\n",
    "Instantiating objects involves creating a JSON object that can be easily utilized in object-oriented programming (OOP). To instantiate an object, you use a class function, which is similar to a JSON object but offers more versatility. Unlike JSON objects that primarily store data, classes can encapsulate data, functions, and additional logic, making them a powerful tool for structuring and managing complex programs.\n",
    "\n"
   ]
  },
  {
   "cell_type": "code",
   "execution_count": null,
   "metadata": {
    "vscode": {
     "languageId": "javascript"
    }
   },
   "outputs": [],
   "source": [
    "class Animal {\n",
    "    constructor(species, name, age) {\n",
    "        this.species = species;\n",
    "        this.name = name;\n",
    "        this.age = age;\n",
    "    }\n",
    "\n",
    "    displayInfo() {\n",
    "        return `${this.name} is a ${this.species} and is ${this.age} years old.`;\n",
    "    }\n",
    "\n",
    "    isAdult(minAge) {\n",
    "        return this.age >= minAge ? `${this.name} is an adult.` : `${this.name} is not an adult.`;\n",
    "    }\n",
    "}\n",
    "\n",
    "let wildFriend = new Animal(\"Tiger\", \"Sheru\", 4);\n",
    "console.log(wildFriend.displayInfo());\n",
    "console.log(wildFriend.isAdult(3));\n"
   ]
  },
  {
   "cell_type": "markdown",
   "metadata": {},
   "source": [
    "Usage of Object: \n",
    "\n",
    "To create an instance of an object, use the new keyword. This generates a unique instance of the object, ensuring it has its own independent values that won’t be shared with other instances of the same class. After calling new, specify the class you want to instantiate and provide the required values inside the parentheses (). Keep in mind that you must supply all the values in the correct order without skipping any. This ensures proper initialization of the object's properties.\n",
    "\n",
    "\n"
   ]
  },
  {
   "cell_type": "markdown",
   "metadata": {},
   "source": [
    "Calling Methods: \n",
    "\n",
    "Objects Methods are functions defined within a class that can interact with the object's data and return useful values. They allow you to perform actions, retrieve properties like speed, size, or image, and display relevant information. To call a method, you reference the object (created from the class and stored in a variable) followed by a dot (.) and the method's name."
   ]
  },
  {
   "cell_type": "code",
   "execution_count": null,
   "metadata": {
    "vscode": {
     "languageId": "javascript"
    }
   },
   "outputs": [],
   "source": [
    "class Boat {\n",
    "    constructor(maxSpeed, size, color) {\n",
    "        this.maxSpeed = maxSpeed;\n",
    "        this.size = size;\n",
    "        this.color = color;\n",
    "        this.fuel = 100; // Initialized with full fuel\n",
    "    }\n",
    "\n",
    "    drive() {\n",
    "        this.fuel -= 10; // Decrease fuel by 10 with each drive\n",
    "        return `The ${this.color} boat is driving at ${this.maxSpeed} knots.`;\n",
    "    }\n",
    "\n",
    "    tankLeft() {\n",
    "        return `Fuel remaining: ${this.fuel}%`;\n",
    "    }\n",
    "}\n",
    "\n",
    "// Creating an instance of the Boat class\n",
    "let coolBoat = new Boat(100, \"Big\", \"Blue\");\n",
    "\n",
    "// Calling methods on the Boat instance\n",
    "console.log(coolBoat.drive());\n",
    "console.log(coolBoat.tankLeft());\n"
   ]
  },
  {
   "cell_type": "markdown",
   "metadata": {},
   "source": [
    "Parameters: \n",
    "\n",
    "Parameters are the inputs you provide when creating an object. They are used to initialize the object's properties. In the example above, parameters are provided for maxSpeed, size, and color when creating the object. These values are passed inside the parentheses () when instantiating the coolBoat object."
   ]
  },
  {
   "cell_type": "markdown",
   "metadata": {},
   "source": [
    "Return Values: \n",
    "\n",
    "Return values are outputs produced by methods within an object. In the example above, a method returns the amount of fuel left in the boat's tank. To practice further, you could create an additional method that calculates and returns the distance the boat can travel based on the current fuel level. This approach allows you to retrieve and work with specific data about the object."
   ]
  }
 ],
 "metadata": {
  "language_info": {
   "name": "python"
  }
 },
 "nbformat": 4,
 "nbformat_minor": 2
}
