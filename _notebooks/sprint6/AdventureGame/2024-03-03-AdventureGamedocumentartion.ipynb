{
 "cells": [
  {
   "cell_type": "raw",
   "metadata": {
    "vscode": {
     "languageId": "raw"
    }
   },
   "source": [
    "---\n",
    "author: Srinaga Pillutla\n",
    "layout: post\n",
    "title: AdventureGame documentation\n",
    "description: A blog understanding about what are the plans and changes I made throught the game\n",
    "permalink: PBL-Blog/AdventureGamedocumentation\n",
    "toc: true\n",
    "comments: true\n",
    "categories: CSSE\n",
    "---"
   ]
  },
  {
   "cell_type": "markdown",
   "metadata": {},
   "source": [
    "Week 20-21:\n",
    "\n",
    "Burndown lists for Week 20-21 \n",
    "his week, we are focusing on the development of our RPG game. Currently, I am working on implementing the Yellowstone Quest, where players will engage with park rangers to learn about the history of Yellowstone, test their knowledge through quizzes, and explore various animal species—all while navigating challenges to escape the level.\n",
    "\n",
    "Following this, my next priorities include:\n",
    "\n",
    "- [x]  Implementing a proper background for the game to enhance the visual experience.\n",
    "\n",
    "- [x]  Developing a functional compass, which is essential for players to explore Yellowstone and successfully navigate their way out of the national park.\n",
    "\n",
    "- [x]  Creating a dedicated class for the compass to ensure smooth integration, along with setting up restricted zones that players cannot access.\n",
    "\n",
    " \n",
    "\n",
    "- [x] Exploring potential sprite variations while maintaining Chillguy, Linux, and Tux as core elements.\n",
    "\n",
    "This approach will enhance gameplay mechanics, improve immersion, and refine the overall player experience.\n",
    "\n",
    "\n",
    "\n",
    "This approach will enhance gameplay mechanics, improve immersion, and refine the overall player experience along with that I did pretty decent in the planning and engineering.\n",
    "\n",
    "\n",
    "\n",
    "\n",
    "\n",
    "\n",
    "\n",
    "\n",
    "\n",
    "\n",
    "\n",
    "\n",
    "\n",
    "\n",
    "\n",
    "\n",
    "\n",
    "![Image](https://github.com/user-attachments/assets/8a9637fa-eb30-47d6-98fc-241772a98fd1)"
   ]
  },
  {
   "cell_type": "markdown",
   "metadata": {},
   "source": [
    "Week 22-23 and During Spring Break\n",
    "\n",
    "During Spring Break I was working on the game as it had many flaws and it made it harder so it a lot debugging to get back the original code and work intially my plans were to add music to Npc but it sucked but I was able to add background music and woerking on towards next level and potentially ending the game and making Escape Mr Mortnsen Level. \n",
    "\n",
    "Week 22\n",
    "This week, I focused on progressing toward the end of the game. I explored new ideas, such as making the compass interactive or allowing the animals to talk and share the history of Yellowstone—something I successfully implemented.\n",
    "\n",
    "To-Do List:\n",
    "\n",
    "\n",
    "Control Update: Transition WASD controls to arrow keys. This change will be a game-changer.\n",
    "\n",
    "\n",
    "Exit Strategy Improvement: Instead of an abrupt exit, players will interact with Bea Magica Bear—a mystical guide who provides cryptic directions. Players must use their map and compass knowledge to navigate the challenge while also consulting a robot for hints.\n",
    "\n",
    "\n",
    "Level Expansion: Working on the \"Escaping Mr. Mortensen\" level, making it adventurous and engaging. The goal is to create a thrilling experience, featuring Mr. Mortensen as an NPC who adds depth and humor to the game."
   ]
  },
  {
   "cell_type": "markdown",
   "metadata": {},
   "source": [
    "Week 23-24 continued\n",
    "\n",
    "these two weeks I have added background music and changed WASD keys to arrow keys however that isn't enoguh\n",
    "Week 23 (Before N@TM)\n",
    "\n",
    "Break Progress:\n",
    "Over the break, I focused on both the blog and the game, ensuring everything was functioning properly—especially the desert level, which had some crashes. A major challenge was debugging the background music implementation, but I was ultimately able to get it working. Now, I’m starting work on the second level, gamelevelwater.js.\n",
    "\n",
    "Goals Before N@TM:\n",
    "\n",
    "\n",
    "Continue working on the second level.\n",
    "\n",
    "- [ ] Adjust the background and consider changing the player to \"Chill Guy\" for consistency. Control Adjustments\n",
    "\n",
    "- [x] Modify controls from WASD to arrow keys to make gameplay more accessible and intuitive.\n",
    "\n",
    "- [ ] Refine and improve the blog for college articulation and to ensure a strong grade in this class.\n",
    "\n",
    "- [ ] Also Work on potentially working on the making character 4still so it makes it better \n",
    "\n",
    "And so far I have decided uhdner circumstances I will make small questsystem where they just talk because it is under special circumstances where I have to work and here the drawio"
   ]
  }
 ],
 "metadata": {
  "language_info": {
   "name": "python"
  }
 },
 "nbformat": 4,
 "nbformat_minor": 2
}
