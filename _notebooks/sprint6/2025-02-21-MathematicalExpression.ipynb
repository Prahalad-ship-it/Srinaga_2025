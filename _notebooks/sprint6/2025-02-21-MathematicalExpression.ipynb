{
 "cells": [
  {
   "cell_type": "raw",
   "metadata": {
    "vscode": {
     "languageId": "raw"
    }
   },
   "source": [
    "---\n",
    "author: Srinaga Pillutla\n",
    "layout: post\n",
    "title: MathematicalExpression\n",
    "description: A blog understanding about Diffrent Mathematical Expression\n",
    "permalink: sprint6/MathematicalExpression\n",
    "toc: true\n",
    "comments: true\n",
    "categories: [sprint6]\n",
    "---"
   ]
  },
  {
   "cell_type": "markdown",
   "metadata": {},
   "source": [
    "# <span style=\"color: pink; text-shadow: 2px 2px 5px pink;\">What are Mathematical Expressions and Types of Mathematical Expression? </span> \n",
    "\n",
    "- Mathematical expression is an expression that evaluates to a numerical value. It consists of numbers, variables, operators, and functions.\n",
    "\n",
    "- Diffrent types of Mathematical Expression\n",
    "    - Arithmetic Expressions – Use basic mathematical operations like addition, subtraction, multiplication, and division.\n",
    "    - Algebraic Expressions – Contain variables that represent unknown values.\n",
    "    - Function-based Expressions – Utilize built-in mathematical functions such as square root, exponentiation, and trigonometric functions.\n",
    "    - Complex Expressions – Combine multiple operations and functions, following the standard order of operations (PEMDAS).\n",
    "\n",
    "\n"
   ]
  },
  {
   "cell_type": "markdown",
   "metadata": {},
   "source": [
    "1) \n",
    "\n",
    "Define two variables, `a` and `b`, with values of your choice. Compute the following operations and log each result to the console:\n",
    "1. Sum of `a` and `b`\n",
    "2. Difference of `a` and `b`\n",
    "3. Product of `a` and `b`\n",
    "4. Quotient of `a` divided by `b`\n",
    "\n",
    "\n",
    "\n"
   ]
  },
  {
   "cell_type": "code",
   "execution_count": null,
   "metadata": {
    "vscode": {
     "languageId": "javascript"
    }
   },
   "outputs": [],
   "source": [
    "// Define variables\n",
    "let a = 12;\n",
    "let b = 4;\n",
    "\n",
    "// Perform operations\n",
    "let sum = a + b;          // Sum\n",
    "let difference = a - b;   // Difference\n",
    "let product = a * b;      // Product\n",
    "let quotient = a / b;     // Quotient\n",
    "\n",
    "// Log results to console\n",
    "console.log(\"Sum:\", sum);\n",
    "console.log(\"Difference:\", difference);\n",
    "console.log(\"Product:\", product);\n",
    "console.log(\"Quotient:\", quotient);\n"
   ]
  },
  {
   "cell_type": "markdown",
   "metadata": {},
   "source": [
    "2)  Modulus Operator\n",
    "\n",
    "Define two numbers, `num1` and `num2`. Use the modulus operator `%` to find the remainder when `num1` is divided by `num2`. Log the result to the console.\n",
    "\n",
    "1. Define a variable `num1` (the dividend).\n",
    "2. Define a variable `num2` (the divisor).\n",
    "3. Use the modulus operator `num1 % num2` to calculate the remainder.\n",
    "4. Log the result to the console using `console.log()`.\n",
    " "
   ]
  },
  {
   "cell_type": "code",
   "execution_count": null,
   "metadata": {
    "vscode": {
     "languageId": "javascript"
    }
   },
   "outputs": [],
   "source": [
    "// Define variables\n",
    "let a = 17;\n",
    "let b = 5;\n",
    "\n",
    "// Compute remainder\n",
    "let result = a % b; // 17 divided by 5 gives a remainder of 2\n",
    "\n",
    "// Log the result to the console\n",
    "console.log(\"Remainder of\", a, \"divided by\", b, \"is:\", result);\n"
   ]
  }
 ],
 "metadata": {
  "language_info": {
   "name": "python"
  }
 },
 "nbformat": 4,
 "nbformat_minor": 2
}
