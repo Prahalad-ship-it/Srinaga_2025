{
 "cells": [
  {
   "cell_type": "raw",
   "metadata": {
    "vscode": {
     "languageId": "raw"
    }
   },
   "source": [
    "---\n",
    "author: Srinaga Pillutla\n",
    "layout: post\n",
    "title: helpsystem\n",
    "description: A blog understanding siginificant features of the help system. \n",
    "permalink: sprint6/helpsystem\n",
    "toc: true\n",
    "comments: true\n",
    "categories: [sprint6]\n",
    "---"
   ]
  },
  {
   "cell_type": "markdown",
   "metadata": {},
   "source": [
    "# <span style=\"color: blue; text-shadow: 2px 2px 5px blue;\">Help System What is all about </span> \n",
    "\n",
    "What is a Help System?\n",
    "\n",
    "- A mini guide designed to assist you or others in the future when needed.\n",
    "\n",
    "- Usually done in groups of three.\n",
    "\n",
    "- Worked on alongside the platformer game.\n",
    "\n",
    "- Requires significant effort and collaboration from you and your teammates.\n",
    "\n",
    "- To ensure success, avoid working separately to prevent errors."
   ]
  },
  {
   "cell_type": "markdown",
   "metadata": {},
   "source": [
    "# <span style=\"color: blue; text-shadow: 2px 2px 5px blue;\">Help System What is all about </span> \n"
   ]
  },
  {
   "cell_type": "markdown",
   "metadata": {},
   "source": [
    "## <span style=\"color: pink; text-shadow: 2px 2px 5px blue;\">Step by Step guidance to making good Help System </span> \n",
    "\n",
    "A good Help System is tedious and painful but this blog will simlify it this take a look at our help system created by our whole CSSE class: [Help System Search](https://nighthawkcoders.github.io/platformer4x/search/)\n",
    "\n",
    "- Step 1: Identify and Discuss Your Topic\n",
    "    -  The important step is to discuss with your team and talk about what you want to do. For example, we talked about doing a topic on Platform Elevated.\n",
    "\n",
    "- Step 2: Work Independently\n",
    "    - One of the hardest steps is working independently to write a help system about the topic.\n",
    "    - The key is to read about the topic and understand it thoroughly before writing.\n",
    "    - Make sure you are confident and write in your own words.\n",
    "\n",
    "- Step 3: Presentation\n",
    "    - I initially felt this was another burden, but to avoid mistakes, rehearse, rehearse, and rehearse.\n",
    "    - Make sure the teacher understands your presentation. This helped me a lot to get a good grade.\n",
    "\n",
    "        - You can find my example here [collisons Intro](https://nighthawkcoders.github.io/platformer4x/help-system/platform-elevated/collisions-intro)\n",
    "\n",
    "        - You can find another example here [Coin png Intro](https://nighthawkcoders.github.io/platformer4x/help-system/platform-elevated/Coin%20png-intro)\n",
    "\n",
    "    "
   ]
  },
  {
   "cell_type": "markdown",
   "metadata": {},
   "source": [
    "### <span style=\"color: pink; text-shadow: 2px 2px 5px blue;\">Conclusion</span> \n",
    "\n",
    "Personally creating hel systems were important because they\n",
    "\n",
    "- Help Systems are essential tools that provide guidance and support.\n",
    "\n",
    "- They ensure users can effectively navigate and utilize complex topics or systems.\n",
    "\n",
    "- Help Systems promote collaboration, independent learning, and effective communication.\n",
    "\n",
    "- Investing time and effort into creating a comprehensive Help System enhances the overall quality of your work.\n",
    "\n",
    "- Developing a Help System also helps you acquire valuable skills that will benefit you in the long run.\n",
    "\n"
   ]
  }
 ],
 "metadata": {
  "language_info": {
   "name": "python"
  }
 },
 "nbformat": 4,
 "nbformat_minor": 2
}
