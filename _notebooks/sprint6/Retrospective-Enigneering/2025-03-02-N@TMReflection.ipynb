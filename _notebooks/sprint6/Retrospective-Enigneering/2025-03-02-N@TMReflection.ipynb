{
 "cells": [
  {
   "cell_type": "raw",
   "metadata": {
    "vscode": {
     "languageId": "raw"
    }
   },
   "source": [
    "---\n",
    "author: Srinaga Pillutla\n",
    "layout: post\n",
    "title: N@TM Reflection \n",
    "description: A reflection on the N@TM project about what diffrent people said about my project\n",
    "permalink: Retrospective-Enigneering/N@TM Reflection\n",
    "toc: true\n",
    "comments: true\n",
    "categories: [Retrospective-Enigneering]\n",
    "---"
   ]
  },
  {
   "cell_type": "markdown",
   "metadata": {},
   "source": [
    "What is N@TM:\n",
    "\n",
    "Glad you asked. N@TM is where all the students show whatever they have been working on throught the trimester and for me it is great place to learn about diffrent people idea wether CSP, Csa or CSSE and enjoy the time with code code code aura everywhere so during N@TTM not many people were intrested but people left comments and it reflects my game and how I could work better on it "
   ]
  },
  {
   "cell_type": "markdown",
   "metadata": {},
   "source": [
    "\n",
    "Aadi B - Very exciting project, I like how you used music to make it more interesting. I would add a feature to the blue character that could give the player a quest. Overall great job!\n",
    "\n",
    "\n",
    "Aarav L- Maybe change the sprite with its own unique sprite animations. \n",
    "\n",
    "\n",
    "Raymond Chow - In RPG type games there is usually some type of character progression. Consider introducing a value you can track as you move between mini-games.\n",
    "\n",
    "\n",
    "William W- I like your music that you play on interaction and I like your ideas\n",
    "\n",
    "Some things to improve is when you die o starwars you are put in a death loop\n",
    "\n",
    "\n",
    "\n",
    "Really great presentation and organization skills. One critique is consider adding collisions/walls for the shooters in the second game!\n",
    "\n",
    "You should make the image more beautiful and let the moving be smooth and easy to control."
   ]
  },
  {
   "cell_type": "markdown",
   "metadata": {},
   "source": [
    "Copule of Ideas I got from is that make the level better is Aadi B idea create quest system and at the cost I removed the music but It is really easy fix to add msuic to background and I could add into game and it should be badabing bada boom and I want to change the background to my liking and Npc should be also change to my liking"
   ]
  }
 ],
 "metadata": {
  "language_info": {
   "name": "python"
  }
 },
 "nbformat": 4,
 "nbformat_minor": 2
}
