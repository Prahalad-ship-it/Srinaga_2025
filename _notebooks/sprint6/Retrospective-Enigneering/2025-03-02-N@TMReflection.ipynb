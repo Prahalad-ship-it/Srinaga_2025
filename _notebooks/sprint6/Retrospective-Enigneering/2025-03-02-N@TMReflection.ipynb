{
 "cells": [
  {
   "cell_type": "raw",
   "metadata": {
    "vscode": {
     "languageId": "raw"
    }
   },
   "source": [
    "---\n",
    "author: Srinaga Pillutla\n",
    "layout: post\n",
    "title: N@TM Reflection \n",
    "description: A reflection on the N@TM project about what diffrent people said about my project\n",
    "permalink: Retrospective-Enigneering/N@TM Reflection\n",
    "toc: true\n",
    "comments: true\n",
    "categories: [Retrospective-Enigneering]\n",
    "---"
   ]
  },
  {
   "cell_type": "markdown",
   "metadata": {},
   "source": []
  }
 ],
 "metadata": {
  "language_info": {
   "name": "python"
  }
 },
 "nbformat": 4,
 "nbformat_minor": 2
}
