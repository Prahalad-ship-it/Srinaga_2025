{
 "cells": [
  {
   "cell_type": "raw",
   "metadata": {
    "vscode": {
     "languageId": "raw"
    }
   },
   "source": [
    "---\n",
    "author: Srinaga Pillutla\n",
    "layout: post\n",
    "title: MathematicalExpression\n",
    "description: A blog understanding about Diffrent Mathematical Expression\n",
    "permalink: Lessons/MathematicalExpression\n",
    "toc: true\n",
    "comments: true\n",
    "categories: [Lessons]\n",
    "---"
   ]
  },
  {
   "cell_type": "markdown",
   "metadata": {},
   "source": [
    "# <span style=\"color: pink; text-shadow: 2px 2px 5px pink;\">What are Mathematical Expressions and Types of Mathematical Expression? </span> \n",
    "\n",
    "- Mathematical expression is an expression that evaluates to a numerical value. It consists of numbers, variables, operators, and functions.\n",
    "\n",
    "- Diffrent types of Mathematical Expression\n",
    "    - Arithmetic Expressions – Use basic mathematical operations like addition, subtraction, multiplication, and division.\n",
    "    - Algebraic Expressions – Contain variables that represent unknown values.\n",
    "    - Function-based Expressions – Utilize built-in mathematical functions such as square root, exponentiation, and trigonometric functions.\n",
    "    - Complex Expressions – Combine multiple operations and functions, following the standard order of operations (PEMDAS).\n",
    "\n",
    "\n"
   ]
  },
  {
   "cell_type": "markdown",
   "metadata": {},
   "source": [
    "1) \n",
    "\n",
    "To use basic math equation you always gotta define a and b in order to\n",
    "1. Sum of `a` and `b`\n",
    "2. Difference of `a` and `b`\n",
    "3. Product of `a` and `b`\n",
    "4. Quotient of `a` divided by `b`\n",
    "\n",
    "\n",
    "\n"
   ]
  },
  {
   "cell_type": "code",
   "execution_count": null,
   "metadata": {
    "vscode": {
     "languageId": "javascript"
    }
   },
   "outputs": [],
   "source": [
    "// Define variables\n",
    "let a = 12;\n",
    "let b = 4;\n",
    "\n",
    "// Perform operations\n",
    "let sum = a + b;          // Sum\n",
    "let difference = a - b;   // Difference\n",
    "let product = a * b;      // Product\n",
    "let quotient = a / b;     // Quotient\n",
    "\n",
    "// Log results to console\n",
    "console.log(\"Sum:\", sum);\n",
    "console.log(\"Difference:\", difference);\n",
    "console.log(\"Product:\", product);\n",
    "console.log(\"Quotient:\", quotient);\n"
   ]
  },
  {
   "cell_type": "markdown",
   "metadata": {},
   "source": [
    "2)  Modulus Operator\n",
    "\n",
    "- Create a variable num1 and assign it a number.\n",
    "- Create a variable num2 and assign it another number.\n",
    "- Use num1 % num2 to get the remainder when num1 is divided by num2.\n",
    "- Print the remainder using console.log().\n",
    "\n",
    " "
   ]
  },
  {
   "cell_type": "code",
   "execution_count": null,
   "metadata": {
    "vscode": {
     "languageId": "javascript"
    }
   },
   "outputs": [],
   "source": [
    "//eg\n",
    "// Define variables\n",
    "let a = 17;\n",
    "let b = 5;\n",
    "\n",
    "// Compute remainder\n",
    "let result = a % b; // 17 divided by 5 gives a remainder of 2\n",
    "\n",
    "// Log the result to the console\n",
    "console.log(\"Remainder of\", a, \"divided by\", b, \"is:\", result);\n"
   ]
  },
  {
   "cell_type": "markdown",
   "metadata": {},
   "source": [
    "3) Increment an Decrement\n",
    "\n",
    "- What is Increment and Decrement \n",
    "    - Increment= is where you increase a number using ++\n",
    "    - Decrement = is when you decrease a number using -- \n",
    "- How do you Increment or decremnt by spefifc value\n",
    "    - Glad you asked += for increment by spefic value\n",
    "    - Decrement -= to decrement by spefifc value\n",
    "\n",
    "1) Define the variable or the number you are working with eg (1 or 10) doesn't matter \n",
    "2) use this ++ to increment by 1 or -- to decrement by 1\n",
    "3) Use this += to increment by spefifc value and use this -= to decrement by spefifc value\n",
    "4) thenuse console.log to track those values \n",
    "    Sample Eg\n",
    "\n"
   ]
  },
  {
   "cell_type": "code",
   "execution_count": null,
   "metadata": {
    "vscode": {
     "languageId": "javascript"
    }
   },
   "outputs": [],
   "source": [
    "let num = 10;  // Starting number\n",
    "\n",
    "// Increment by 1\n",
    "num++;\n",
    "console.log(num); // Output: 11\n",
    "\n",
    "// Decrement by 1\n",
    "num--;\n",
    "console.log(num); // Output: 10 (back to original)\n",
    "\n",
    "// Increase by a specific value (e.g., 4)\n",
    "num += 4;\n",
    "console.log(num); // Output: 14\n",
    "\n",
    "// Decrease by a specific value (e.g., 4)\n",
    "num -= 4;\n",
    "console.log(num); // Output: 10 (back to original)\n"
   ]
  },
  {
   "cell_type": "markdown",
   "metadata": {},
   "source": [
    "## <span style=\"color: pink; text-shadow: 2px 2px 5px pink;\">How can we apply to game? </span> \n",
    "\n",
    "Have you played adventure games where you have the monster attacking  you and killing or destroying your health well that how it works an Eg down here \n"
   ]
  },
  {
   "cell_type": "code",
   "execution_count": null,
   "metadata": {
    "vscode": {
     "languageId": "javascript"
    }
   },
   "outputs": [],
   "source": [
    "let mainCharacterEnergy = 50;  \n",
    "let npcEnergy = 40;  \n",
    "\n",
    "// Main character finds an energy boost\n",
    "let energyBoost = 4;  \n",
    "mainCharacterEnergy += energyBoost;  // Increase energy by 4  \n",
    "console.log(\"Main Character Energy: \" + mainCharacterEnergy);  // Output: Main Character Energy: 54  \n",
    "\n",
    "// NPC loses energy due to an obstacle  \n",
    "npcEnergy -= energyBoost;  // Decrease energy by 4  \n",
    "console.log(\"NPC Energy: \" + npcEnergy);  // Output: NPC Energy: 36  \n",
    "\n",
    "// Main character uses a skill, reducing energy by 1  \n",
    "mainCharacterEnergy--;  \n",
    "console.log(\"Main Character Energy after skill: \" + mainCharacterEnergy);  // Output: Main Character Energy: 53  \n",
    "\n",
    "// NPC regains some energy  \n",
    "npcEnergy++;  \n",
    "console.log(\"NPC Energy after recovery: \" + npcEnergy);  // Output: NPC Energy: 37  \n"
   ]
  },
  {
   "cell_type": "markdown",
   "metadata": {},
   "source": [
    "### <span style=\"color: pink; text-shadow: 2px 2px 5px pink;\">Conclusion? </span> \n",
    "\n",
    "The Mathematical Expresison are crucial as they help us Calculate health, damage, and energy changes.\n",
    "Control movement, physics, and scoring systems and help us create if statement to make sure to track if they are killed and detroyed so remeebr to Code, Code, Code bye\n"
   ]
  }
 ],
 "metadata": {
  "kernelspec": {
   "display_name": "venv",
   "language": "python",
   "name": "python3"
  },
  "language_info": {
   "codemirror_mode": {
    "name": "ipython",
    "version": 3
   },
   "file_extension": ".py",
   "mimetype": "text/x-python",
   "name": "python",
   "nbconvert_exporter": "python",
   "pygments_lexer": "ipython3",
   "version": "3.12.3"
  }
 },
 "nbformat": 4,
 "nbformat_minor": 2
}
