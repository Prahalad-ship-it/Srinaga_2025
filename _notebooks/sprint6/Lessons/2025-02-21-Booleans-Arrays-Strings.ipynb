{
 "cells": [
  {
   "cell_type": "raw",
   "metadata": {
    "vscode": {
     "languageId": "raw"
    }
   },
   "source": [
    "---\n",
    "author: Srinaga Pillutla\n",
    "layout: post\n",
    "title: Booleans-Arrays-Strings\n",
    "description: A blog understanding on Booleans,Arrays and Strings work in JavaScript (taught by Students) and how they are used in the code.\n",
    "permalink: Lessons/Booleans-Arrays-Strings\n",
    "toc: true\n",
    "comments: true\n",
    "categories: [Lessons]\n",
    "---"
   ]
  },
  {
   "cell_type": "markdown",
   "metadata": {},
   "source": [
    "# <span style=\"color: pink; text-shadow: 2px 2px 5px pink;\">What is a Boolean ? </span> \n",
    "    \n",
    "    Booleans:\n",
    "- Represent true or false values.\n",
    "\n",
    "- Used for logical operations and decision-making.\n",
    "\n",
    "- Simplify condition checking in programming.\n"
   ]
  },
  {
   "cell_type": "markdown",
   "metadata": {},
   "source": [
    "Booleans are essential in game development as they represent true or false conditions. They ensure the game functions correctly, especially when it comes to actions like exiting a game level. Here's a sample of how booleans are used in a game's code:"
   ]
  },
  {
   "cell_type": "code",
   "execution_count": null,
   "metadata": {
    "vscode": {
     "languageId": "javascript"
    }
   },
   "outputs": [],
   "source": [
    "%%js\n",
    "\n",
    "//Play around with the variables to see what happens\n",
    "let keyInserted = true;\n",
    "let correctKey = false;\n",
    "let lockPick = false;\n",
    "\n",
    "if (lockPick) {\n",
    "    console.log(\"Door opened.\")\n",
    "}\n",
    "else {\n",
    "    //Check if the key you have was inserted and is the correct key\n",
    "    if (keyInserted){\n",
    "        console.log(\"Inserted key into door.\")\n",
    "    }\n",
    "    else {\n",
    "        console.log(\"Insert key into door.\")\n",
    "    }\n",
    "    if (keyInserted && correctKey){\n",
    "        console.log(\"Door opened.\")\n",
    "    }\n",
    "    else {\n",
    "        console.log(\"Incorrect key, door did not open.\")\n",
    "    }\n",
    "}\n",
    "\n"
   ]
  },
  {
   "cell_type": "markdown",
   "metadata": {},
   "source": [
    "Lock Pick Check:\n",
    "\n",
    "- If lockPick is true, the code logs \"Door opened.\" and stops further checks.\n",
    "    - Key Insertion Check:\n",
    "    - If lockPick is false, the code checks if keyInserted is true.\n",
    "    - If keyInserted is true, it logs \"Inserted key into door.\"\n",
    "    - If keyInserted is false, it logs \"Insert key into door.\"\n",
    "\n",
    "- Correct Key Check:\n",
    "    - After checking if the key is inserted, it checks if both keyInserted and correctKey are true.\n",
    "    - If both are true, it logs \"Door opened.\"\n",
    "    - If either is false, it logs \"Incorrect key, door did not open.\""
   ]
  },
  {
   "cell_type": "markdown",
   "metadata": {},
   "source": [
    "## <span style=\"color: pink; text-shadow: 2px 2px 5px pink;\">What are Arrays? </span> \n",
    "\n",
    "    Arrays:\n",
    "- Ordered collections of elements.\n",
    "- Store multiple values in a single variable.\n",
    "- Allow efficient data manipulation and traversal."
   ]
  },
  {
   "cell_type": "markdown",
   "metadata": {},
   "source": [
    "How can we use Arrays in game: Because They are helpful when it comes to multiple values in a single variable, making it easy to manage large sets of data."
   ]
  },
  {
   "cell_type": "code",
   "execution_count": null,
   "metadata": {
    "vscode": {
     "languageId": "javascript"
    }
   },
   "outputs": [],
   "source": [
    "case \"finishline\":\n",
    "                console.log(\"finish line checks\")\n",
    "                console.log(GameEnv.gameObjects)\n",
    "                var collectedCoin\n",
    "                if (collectedCoin == false){\n",
    "                    for (let obj of GameEnv.gameObjects) {\n",
    "                        console.log(obj.jsonifiedElement.id)\n",
    "                        if (obj.jsonifiedElement.id === \"coin\") {\n",
    "                            collectedCoin = false\n",
    "                            console.log(\"coin not collected not advancing to next lvl\")\n",
    "                            return;\n",
    "                        }\n",
    "                }"
   ]
  },
  {
   "cell_type": "markdown",
   "metadata": {},
   "source": [
    "- Finish Line Case:\n",
    "    - Logs a message indicating the finish line checks are being performed.\n",
    "    - Outputs the array of game objects for inspection.\n",
    "\n",
    "- Collected Coin Check:\n",
    "    - Initializes a variable to track whether the coin has been collected.\n",
    "    - Iteration Over Game Objects:\n",
    "    - Loops through each game object in the array.\n",
    "    - Logs the ID of each game object for debugging purposes.\n",
    "\n",
    "- Coin Check:\n",
    "    - If an object with the ID \"coin\" is found, marks the coin as not collected.\n",
    "    - Logs a message indicating the coin is not collected and prevents advancing to the next level."
   ]
  },
  {
   "cell_type": "markdown",
   "metadata": {},
   "source": [
    "### <span style=\"color: pink; text-shadow: 2px 2px 5px pink;\">What is a String? </span> \n",
    "\n",
    "- Strings:\n",
    "    - Represent sequences of characters.\n",
    "    - Used for text manipulation and storage.\n",
    "    - Enable operations like concatenation, searching, and formatting.\n",
    "\n"
   ]
  },
  {
   "cell_type": "markdown",
   "metadata": {},
   "source": [
    "Strings are like greetings in a game where for example in one of our games we have to interact with a NPC when we press button and it greets us."
   ]
  },
  {
   "cell_type": "code",
   "execution_count": null,
   "metadata": {
    "vscode": {
     "languageId": "javascript"
    }
   },
   "outputs": [],
   "source": [
    "let greeting = \"Hi I am Java Nomad, the Java mascot. I am very happy to spend some linux shell time with you!\";\n"
   ]
  },
  {
   "cell_type": "markdown",
   "metadata": {},
   "source": [
    "Declaration and Assignment: The let keyword declares a new variable named greeting. The string \"Hi I am Java Nomad, the Java mascot. I am very happy to spend some linux shell time with you!\" is assigned to this variable. This means the variable greeting now holds this entire sequence of characters as its value."
   ]
  },
  {
   "cell_type": "markdown",
   "metadata": {},
   "source": [
    "### <span style=\"color: pink; text-shadow: 2px 2px 5px pink;\">Conclusion </span> \n",
    "\n",
    "Arrays, booleans, and strings are crucial in programming because they enable effective data storage, decision-making, and text processing. \n",
    "\n",
    "- Arrays organize multiple elements. \n",
    "- Booleans drive logic through true/false values. \n",
    "- Strings handle and manipulate text. \n",
    "\n",
    "Together, they form the foundation for dynamic and efficient code.\n",
    "\n",
    "\n"
   ]
  }
 ],
 "metadata": {
  "language_info": {
   "name": "python"
  }
 },
 "nbformat": 4,
 "nbformat_minor": 2
}
