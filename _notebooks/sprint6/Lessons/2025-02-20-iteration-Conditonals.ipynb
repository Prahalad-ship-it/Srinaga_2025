{
 "cells": [
  {
   "cell_type": "raw",
   "metadata": {
    "vscode": {
     "languageId": "raw"
    }
   },
   "source": [
    "---\n",
    "author: Srinaga Pillutla\n",
    "layout: post\n",
    "title: iteration-Conditonals\n",
    "description: A blog understanding on how iterations work \n",
    "permalink: Lessons/iteration-Conditonals\n",
    "toc: true\n",
    "comments: true\n",
    "categories: [Lessons]\n",
    "---"
   ]
  },
  {
   "cell_type": "markdown",
   "metadata": {},
   "source": [
    "# <span style=\"color: pink; text-shadow: 2px 2px 5px pink;\">What is a Iteration and what are some uses</span> \n",
    "\n",
    "Iterations (Loops): Definition: Iterations, or loops, are used to repeat a block of code multiple times.\n",
    "\n",
    "Types of Loops:\n",
    "-   For Loop: Iterates over a sequence (like a list, tuple, string) or a range of numbers.\n",
    "-   While Loop: Repeats a block of code as long as a specified condition is true.\n",
    "-   Nested Loop: A loop inside another loop, allowing for more complex iterations.\n",
    "\n",
    "Use Cases: Iterations are useful for tasks like traversing lists, performing repeated calculations, and automating repetitive tasks."
   ]
  },
  {
   "cell_type": "markdown",
   "metadata": {},
   "source": [
    "Iterations has been life changer for me for example this is an example of how an iteration works "
   ]
  },
  {
   "cell_type": "code",
   "execution_count": null,
   "metadata": {
    "vscode": {
     "languageId": "javascript"
    }
   },
   "outputs": [],
   "source": [
    "collisionChecks() {\n",
    "        let collisionDetected = false;\n",
    "\n",
    "        for (var gameObj of GameEnv.gameObjects) {\n",
    "            if (gameObj.canvas && this != gameObj) {\n",
    "                this.isCollision(gameObj);\n",
    "                if (this.collisionData.hit) {\n",
    "                    collisionDetected = true;\n",
    "                    this.handleCollisionEvent();\n",
    "                }\n",
    "            }\n",
    "        }"
   ]
  },
  {
   "cell_type": "markdown",
   "metadata": {},
   "source": [
    "In the code with iteration IT make sure to track collisons explained in detail\n",
    "\n",
    "- Initialization:\n",
    "    - Initialize a variable to track collision detection.\n",
    "- Iteration through Game Objects:\n",
    "    - Loop through each game object in the environment.\n",
    "- Condition Check:\n",
    "    - For each game object, check if it meets certain conditions (e.g., has a canvas property, is not the current object).\n",
    "Collision Detection:\n",
    "    - Check for a collision with the current game object.\n",
    "- Collision Handling:\n",
    "    - If a collision is detected, update the collision detection variable and handle the collision event."
   ]
  },
  {
   "cell_type": "markdown",
   "metadata": {
    "vscode": {
     "languageId": "javascript"
    }
   },
   "source": [
    "## <span style=\"color: pink; text-shadow: 2px 2px 5px pink;\">What are Conditonals and what are some uses </span> \n",
    "\n",
    "- Definition: Conditionals are used to perform different actions based on different conditions.\n",
    "\n",
    "- Types of Conditionals:\n",
    "    - If Statement: Executes a block of code if a specified condition is true.\n",
    "    - Else Statement: Executes a block of code if the condition in the if statement is false.\n",
    "    - Elif (Else If) Statement: Checks additional conditions if the previous conditions are false.\n",
    "\n",
    "- Use Cases: Conditionals are useful for decision-making processes, such as checking user input, controlling program flow, and handling different scenarios.\n"
   ]
  },
  {
   "cell_type": "markdown",
   "metadata": {},
   "source": [
    "Conditonals are crucial and an example is working on a game or project and this code is found in conditonals lesson we did wehere we learnt about basic conditonal statements."
   ]
  },
  {
   "cell_type": "code",
   "execution_count": null,
   "metadata": {
    "vscode": {
     "languageId": "javascript"
    }
   },
   "outputs": [],
   "source": [
    "class GameObject {\n",
    "    constructor() {\n",
    "        this.velocity = { x: 0, y: 0 };\n",
    "        this.direction = '';\n",
    "        this.xVelocity = 1;\n",
    "        this.yVelocity = 1;\n",
    "    }\n",
    "\n",
    "    handleKeyDown({ keyCode }) {\n",
    "        switch (keyCode) {\n",
    "            case 87: // 'W' key\n",
    "                this.direction = 'up';\n",
    "                break;\n",
    "            case 65: // 'A' key\n",
    "                this.direction = 'left';\n",
    "                break;\n",
    "            case 83: // 'S' key\n",
    "                this.direction = 'down';\n",
    "                break;\n",
    "            case 68: // 'D' key\n",
    "                this.direction = 'right';\n",
    "                break;\n",
    "        }\n",
    "    }\n",
    "}\n",
    "\n",
    "// Example usage\n",
    "const gameObject = new GameObject();\n",
    "console.log('Initial State:', gameObject);\n",
    "\n",
    "gameObject.handleKeyDown({ keyCode: 87 }); // Simulate 'W' key press\n",
    "console.log('After W Key Press:', gameObject);\n",
    "\n",
    "gameObject.handleKeyDown({ keyCode: 65 }); // Simulate 'A' key press\n",
    "console.log('After A Key Press:', gameObject);\n",
    "\n",
    "gameObject.handleKeyDown({ keyCode: 83 }); // Simulate 'S' key press\n",
    "console.log('After S Key Press:', gameObject);\n",
    "\n",
    "gameObject.handleKeyDown({ keyCode: 68 }); // Simulate 'D' key press\n",
    "console.log('After D Key Press:', gameObject);"
   ]
  },
  {
   "cell_type": "markdown",
   "metadata": {},
   "source": [
    "GameObject Class:\n",
    "\n",
    "- Constructor:\n",
    "    - Initializes velocity with x and y coordinates set to 0.\n",
    "    - Sets direction as an empty string.\n",
    "    - Sets xVelocity and yVelocity to 1.\n",
    "\n",
    "- handleKeyDown Method:\n",
    "    - Listens for key down events and updates direction based on key press:\n",
    "    - 'W' key sets direction to 'up'.\n",
    "    -  'A' key sets direction to 'left'.\n",
    "    - 'S' key sets direction to 'down'.\n",
    "    - 'D' key sets direction to 'right'."
   ]
  },
  {
   "cell_type": "markdown",
   "metadata": {},
   "source": [
    "### <span style=\"color: pink; text-shadow: 2px 2px 5px pink;\">Conclusion</span> \n",
    "\n",
    "- Iteration:\n",
    "    - Allows efficient processing and manipulation of data by repeating actions multiple times.\n",
    "    - Facilitates automation of repetitive tasks, saving time and effort.\n",
    "    - Enables traversal of data structures like arrays, lists, and collections to perform operations on each element.\n",
    "\n",
    "- Conditionals:\n",
    "    - Enable decision-making within the code, allowing different actions based on conditions.\n",
    "    - Enhance the flexibility and functionality of programs by handling various scenarios and inputs.\n",
    "    - Ensure that the program can respond dynamically to user interactions and data changes.\n"
   ]
  }
 ],
 "metadata": {
  "kernelspec": {
   "display_name": "venv",
   "language": "python",
   "name": "python3"
  },
  "language_info": {
   "codemirror_mode": {
    "name": "ipython",
    "version": 3
   },
   "file_extension": ".py",
   "mimetype": "text/x-python",
   "name": "python",
   "nbconvert_exporter": "python",
   "pygments_lexer": "ipython3",
   "version": "3.12.3"
  }
 },
 "nbformat": 4,
 "nbformat_minor": 2
}
