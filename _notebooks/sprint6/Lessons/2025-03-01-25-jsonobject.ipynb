{
 "cells": [
  {
   "cell_type": "raw",
   "metadata": {
    "vscode": {
     "languageId": "raw"
    }
   },
   "source": [
    "---\n",
    "author: Srinaga Pillutla\n",
    "layout: post\n",
    "title: json object \n",
    "description: A blog understanding about json object\n",
    "permalink: Lessons/jsonobject\n",
    "toc: true\n",
    "comments: true\n",
    "categories: [Lessons]\n",
    "---"
   ]
  },
  {
   "cell_type": "markdown",
   "metadata": {},
   "source": [
    "# <span style=\"color: pink; text-shadow: 2px 2px 5px pink;\">What is JSON Object  </span> \n",
    "\n",
    "Java Script Object Notation is a lightweight data format used to store and exchange information. It represents data as key-value pairs, similar to how objects work in programming languages like Python or JavaScript. these are used in web devlopment anfd games\n",
    "\n",
    "- key features \n",
    "    - Key-Value Pair: Data is stored as key-value pairs.\n",
    "    - Lightweight: Simple, compact, and easy to transfer.\n",
    "    - Text-Based: Human-readable and machine-readable.\n",
    "    - Data Exchange: Commonly used for APIs and web applications.\n",
    "    - Language-Agnostic: Works with most programming languages.\n",
    "    - Nested Structures: Supports objects within objects and arrays.\n",
    "    - Strict Syntax Rules: Keys in double quotes, proper data types, no trailing commas.\n"
   ]
  },
  {
   "cell_type": "code",
   "execution_count": null,
   "metadata": {
    "vscode": {
     "languageId": "javascript"
    }
   },
   "outputs": [],
   "source": [
    "%% javascript\n",
    "// JSON object\n",
    "const person = {\n",
    "    \"name\": \"Alice\",\n",
    "    \"age\": 25,\n",
    "    \"isStudent\": true,\n",
    "    \"skills\": [\"JavaScript\", \"Python\", \"HTML\"],\n",
    "    \"address\": {\n",
    "      \"city\": \"Dallas\",\n",
    "      \"state\": \"Texas\"\n",
    "    }\n",
    "  };\n",
    "  \n",
    "  // Accessing properties\n",
    "  console.log(person.name); // Output: Alice\n",
    "  console.log(person.age); // Output: 25\n",
    "  console.log(person.isStudent); // Output: true\n",
    "  console.log(person.skills); // Output: [\"JavaScript\", \"Python\", \"HTML\"]\n",
    "  console.log(person.address.city); // Output: Dallas\n",
    "  console.log(person.address.state); // Output: Texas\n",
    "  "
   ]
  },
  {
   "cell_type": "markdown",
   "metadata": {},
   "source": [
    "- Explanation\n",
    "    - Object Creation: The person object represents structured data, containing key details like the name, age, student status, skills, and a nested address with city and state. It's defined using const, meaning its reference cannot be reassigned.\n",
    "    - Accessing Properties: Dot notation is used to retrieve specific values. For example, person.name returns \"Alice\", person.skills outputs the list of skills, and person.address.city provides \"Dallas\".\n",
    "    - Key Concepts: This code demonstrates how to handle nested objects, work with arrays inside objects, and access hierarchical data. It's a practical way to represent and manipulate information in JavaScript."
   ]
  },
  {
   "cell_type": "markdown",
   "metadata": {},
   "source": [
    "## <span style=\"color: blue; text-shadow: 2px 2px 5px pink;\">How could we apply into game??</span> \n",
    "- How is JSON object applicable ing ame\n",
    "    - Player Data: Store player stats, inventory, and progress.\n",
    "    - Game Settings: Define and manage graphics, controls, and audio.\n",
    "    - Game Assets: Represent characters, enemies, or items with attributes.\n",
    "    - Save/Load: Save and retrieve game progress efficiently.\n",
    "    - Levels: Design dynamic layouts with obstacles and power-ups.\n",
    "    - Multiplayer: Exchange data between players and servers in real-time.\n"
   ]
  },
  {
   "cell_type": "code",
   "execution_count": null,
   "metadata": {
    "vscode": {
     "languageId": "javascript"
    }
   },
   "outputs": [],
   "source": [
    "%%js\n",
    "\n",
    "// Sprite data\n",
    "const sprite_src = \"{{site.baseurl}}/images/rpg/turtle.png\";\n",
    "const sprite_data = {\n",
    "    SCALE_FACTOR: 10,\n",
    "    STEP_FACTOR: 1000,\n",
    "    ANIMATION_RATE: 50,\n",
    "    pixels: {height: 280, width: 256},\n",
    "    orientation: {rows: 4, columns: 3 },\n",
    "    down: {row: 0, start: 0, columns: 3 },\n",
    "    left: {row: 1, start: 0, columns: 3 },\n",
    "    right: {row: 2, start: 0, columns: 3 },\n",
    "    up: {row: 3, start: 0, columns: 3 },\n",
    "};\n",
    "const sprite = {src: sprite_src, data: sprite_data};"
   ]
  },
  {
   "cell_type": "markdown",
   "metadata": {},
   "source": [
    "- Background data involves creating an image object with a source URL and dimensions (height and width).\n",
    "- The image object is displayed in the console using console.log() and shown in HTML by converting it to JSON with JSON.stringify().\n",
    "- Sprite data represents the animated player and includes a sprite source URL and animation properties.\n",
    "- Key sprite properties include scale factor (resizing), step factor (movement speed), and animation rate (timing for animations).\n",
    "- Pixel dimensions of the sprite sheet are specified, along with rows and columns for orientation.\n",
    "- Directions like down, left, right, and up are defined by the row, starting column, and number of columns used.\n",
    "- Dot notation is used to retrieve or manipulate data efficiently, such as accessing pixel height or animation properties."
   ]
  },
  {
   "cell_type": "markdown",
   "metadata": {},
   "source": [
    "## <span style=\"color: blue; text-shadow: 2px 2px 5px pink;\">Conclusion</span> \n",
    "\n",
    "- In conclusion JSON objects are important because\n",
    "\n",
    "- Data Organization: Helps structure and organize data clearly.\n",
    "\n",
    "- Interchange Format: Facilitates easy data exchange between systems.\n",
    "\n",
    "- Language-Independent: Supported by most programming languages.\n",
    "\n",
    "- Human-Readable: Simple format that is easy to read and write."
   ]
  }
 ],
 "metadata": {
  "language_info": {
   "name": "python"
  }
 },
 "nbformat": 4,
 "nbformat_minor": 2
}
