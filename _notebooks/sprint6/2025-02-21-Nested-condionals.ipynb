{
 "cells": [
  {
   "cell_type": "raw",
   "metadata": {
    "vscode": {
     "languageId": "raw"
    }
   },
   "source": [
    "---\n",
    "author: Srinaga Prahalad Pillutla\n",
    "layout: post\n",
    "title: Nested Conditonals\n",
    "description: A blog understanding nested conditionals  taught by students and how they work and help\n",
    "permalink: sprint6/Nestedested-Conditonals\n",
    "toc: true\n",
    "comments: true\n",
    "categories: [sprint6]\n",
    "---"
   ]
  },
  {
   "cell_type": "markdown",
   "metadata": {},
   "source": [
    "# <span style=\"color: pink; text-shadow: 2px 2px 5px pink;\">What is a Nested Conditonals? </span> \n",
    "- Nested Conditionals\n",
    "    - Definition: Conditional statements inside other conditional statements.\n",
    "\n",
    "- Usage: Handle multiple, related conditions.\n",
    "\n",
    "- Benefits:\n",
    "    - Enhanced Control: Manage complex decisions.\n",
    "    - Modular Code: Easier to maintain.\n",
    "    - Flexibility: Implement intricate logic clearly."
   ]
  },
  {
   "cell_type": "markdown",
   "metadata": {},
   "source": [
    "## <span style=\"color: pink; text-shadow: 2px 2px 5px pink;\">Example of a Nested Conditonal</span> \n",
    "\n",
    "Nested Condiontals were important because the students who taught this lesson stated that you can create diffrent complex statements to make sure they are small and don't take up space and secondly it works perfectly in the game you are working on creating compex dialouges with npcs or outcomes and example is when we were working on one of our popcorn hack. "
   ]
  },
  {
   "cell_type": "code",
   "execution_count": null,
   "metadata": {
    "vscode": {
     "languageId": "html"
    }
   },
   "outputs": [],
   "source": [
    "%%html\n",
    "<!-- HTML output div -->\n",
    "<div id=\"message\"></div>\n",
    "\n",
    "<script>\n",
    "    function runWhenDOMLoaded() {\n",
    "        // Example choices\n",
    "        let appleColor = \"red\"; // Change this to \"green\" to test different outcomes\n",
    "        let eatApple = \"yes\";   // Change this to \"no\" to test different outcomes\n",
    "\n",
    "        const messageElement = document.getElementById(\"message\");\n",
    "\n",
    "        function displayMessage(message) {\n",
    "            console.log(message); // Log to console\n",
    "            messageElement.textContent = message; // Display on the webpage\n",
    "        }\n",
    "\n",
    "        // Check the color of the apple chosen by the user\n",
    "        if (appleColor === \"red\") {\n",
    "            // If the apple is red, check if the user wants to eat it\n",
    "            if (eatApple === \"yes\") {\n",
    "                displayMessage(\"Lmao, the apple you ate was poisonous. You're dead :D\");\n",
    "            } else {\n",
    "                displayMessage(\"You decided not to eat the red apple (You're boring -_-).\");\n",
    "            }\n",
    "        } else if (appleColor === \"green\") {\n",
    "            // If the apple is green, check if the user wants to eat it\n",
    "            if (eatApple === \"yes\") {\n",
    "                displayMessage(\"You ate the green apple.\");\n",
    "            } else {\n",
    "                displayMessage(\"You decided not to eat the green apple (You're boring -_-).\");\n",
    "            }\n",
    "        } else {\n",
    "            // If the user enters an invalid color, display an error message\n",
    "            displayMessage(\"Invalid answer. Please choose 'red' or 'green'.\");\n",
    "        }\n",
    "    }\n",
    "\n",
    "    // Ensure the function runs only after the page loads\n",
    "    if (document.readyState === 'loading') {\n",
    "        document.addEventListener('DOMContentLoaded', runWhenDOMLoaded);\n",
    "    } else {\n",
    "        runWhenDOMLoaded();\n",
    "    }\n",
    "</script>"
   ]
  },
  {
   "cell_type": "markdown",
   "metadata": {},
   "source": [
    "- The code checks the color of an apple and whether the user wants to eat it.\n",
    "- Apple Color Check:\n",
    "    - If the apple is \"red\":\n",
    "    - If the user wants to eat it, display a message that the apple was poisonous.\n",
    "    - If the user doesn't want to eat it, display a message saying they didn't eat the apple.\n",
    "    - If the apple is \"green\":\n",
    "    - If the user wants to eat it, display a message that they ate the green apple.\n",
    "    - If the user doesn't want to eat it, display a message saying they didn't eat the apple.\n",
    "    - If the apple is neither red nor green, display an error message."
   ]
  },
  {
   "cell_type": "markdown",
   "metadata": {},
   "source": [
    "### <span style=\"color: pink; text-shadow: 2px 2px 5px pink;\">Conclusion</span> \n",
    "\n",
    "- Nested Conditionals:\n",
    "    - Handle related conditions within other conditions.\n",
    "    - Offer precise control over decision-making.\n",
    "    - Enable modular and readable code.\n",
    "    - Useful in scenarios like decision-making in applications.\n",
    "\n",
    "- Real-life Examples:\n",
    "    - Decision-making in apps, like shopping carts or game actions.\n",
    "- Key Takeaway: Nested conditionals simplify complex decision processes in programming."
   ]
  }
 ],
 "metadata": {
  "kernelspec": {
   "display_name": "venv",
   "language": "python",
   "name": "python3"
  },
  "language_info": {
   "codemirror_mode": {
    "name": "ipython",
    "version": 3
   },
   "file_extension": ".py",
   "mimetype": "text/x-python",
   "name": "python",
   "nbconvert_exporter": "python",
   "pygments_lexer": "ipython3",
   "version": "3.12.3"
  }
 },
 "nbformat": 4,
 "nbformat_minor": 2
}
