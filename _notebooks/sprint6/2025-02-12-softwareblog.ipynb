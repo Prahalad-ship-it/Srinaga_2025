{
 "cells": [
  {
   "cell_type": "raw",
   "metadata": {
    "vscode": {
     "languageId": "raw"
    }
   },
   "source": [
    "---\n",
    "author: Srinaga Pillutla\n",
    "layout: post\n",
    "title: SoftwareBlog \n",
    "description: we explain the PNG format and how to use it in Coin or any other png\n",
    "permalink: sprint6/softwareblog\n",
    "toc: true\n",
    "comments: true\n",
    "categories: [Platforms]\n",
    "---"
   ]
  },
  {
   "cell_type": "markdown",
   "metadata": {},
   "source": [
    "e"
   ]
  }
 ],
 "metadata": {
  "language_info": {
   "name": "python"
  }
 },
 "nbformat": 4,
 "nbformat_minor": 2
}
