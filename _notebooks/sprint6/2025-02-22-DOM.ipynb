{
 "cells": [
  {
   "cell_type": "raw",
   "metadata": {
    "vscode": {
     "languageId": "raw"
    }
   },
   "source": [
    "---\n",
    "author: Srinaga Pillutla\n",
    "layout: post\n",
    "title: DOM \n",
    "description: A blog about the use of DOM (Document Object Model). \n",
    "permalink: sprint6/DOM \n",
    "toc: true\n",
    "comments: true\n",
    "categories: [sprint6]\n",
    "---"
   ]
  },
  {
   "cell_type": "markdown",
   "metadata": {},
   "source": [
    "# <span style=\"color: blue; text-shadow: 2px 2px 5px blue;\">What is DOM and What is its usage</span>\n",
    "\n",
    "- DOM (Document Object Model)\n",
    "    - DOM, also known as Document Object Model, is a programming interface that allows scripts to interact with the webpage.\n",
    "    - It is used to create, read, update, and delete content in HTML and XML.\n",
    "\n",
    "- What are some uses of DOM\n",
    "    - DOM allows developers to create dynamic and interactive web applications.\n",
    "    - You can use different languages to create web apps. \n",
    "\n",
    "- Animation and Movement:\n",
    "    - Smooth Transitions: Use JavaScript and CSS to create smooth animations and movements for game characters and objects.\n",
    "\n",
    "- Collision Detection:\n",
    "    - Bounding Boxes: Use the DOM to define and check the boundaries of game objects for collision detection.\n",
    "\n",
    "- Data Storage and Retrieval:\n",
    "    - Local Storage: Store game progress, settings, and player data using local storage APIs.\n",
    "    - State Management: Save and retrieve the game state to ensure continuity and persistence.\n",
    "\n"
   ]
  },
  {
   "cell_type": "markdown",
   "metadata": {
    "vscode": {
     "languageId": "raw"
    }
   },
   "source": [
    "The DOM was taught to us it is tricky but is useful as it gives you\n",
    "- Real-Time Feedback: The user receives immediate feedback on the validity of the entered game speed.\n",
    "- Dynamic Updates: The DOM manipulation allows for dynamic updates to the web page without needing to reload or refresh.\n",
    "- Improved User Experience: Provides a more interactive and user-friendly experience by handling input validation and displaying messages directly on the web page.\n",
    "\n",
    "The Example was from one of our work on how DOM works and how DOM is important to  how the game works. \n",
    "\n"
   ]
  },
  {
   "cell_type": "code",
   "execution_count": null,
   "metadata": {
    "vscode": {
     "languageId": "html"
    }
   },
   "outputs": [],
   "source": [
    "%%html \n",
    "<!-- Input definitions -->\n",
    "<div>\n",
    "  <label for=\"speed\">Adjust Speed (1-5):</label>\n",
    "  <input type=\"number\" id=\"speed\" name=\"speed\" min=\"1\" max=\"5\" value=\"2\">\n",
    "  <button onclick=\"submitSpeed()\">Submit</button>\n",
    "</div>\n",
    "\n",
    "<!-- Document Object Model (DOM) output locations -->\n",
    "<div id=\"output\"></div>\n",
    "<div id=\"error\"></div>\n",
    "\n",
    "<script>\n",
    "  // Function to validate and output the game speed value\n",
    "  function submitSpeed() {\n",
    "    let gameSpeed = document.getElementById('speed').value;\n",
    "    \n",
    "    // Ensure the value is within the allowed range\n",
    "    if (gameSpeed < 1 || gameSpeed > 5) {\n",
    "      // Set/clear output messages when there is an error\n",
    "      document.getElementById('output').innerHTML = \"\";\n",
    "      // Output an error message to the console\n",
    "      console.error(\"Invalid game speed value:\", gameSpeed);\n",
    "      // Output an error message to the HTML page\n",
    "      document.getElementById('error').innerHTML = \"Invalid game speed value: \" + gameSpeed;\n",
    "    } else {\n",
    "      // Set/clear error messages when the value is valid\n",
    "      document.getElementById('error').innerHTML = \"\";\n",
    "      // Output the game speed value to the console\n",
    "      console.log(\"Game speed set to:\", gameSpeed);\n",
    "      // Output the game speed value to the HTML page\n",
    "      document.getElementById('output').innerHTML = \"Game speed set to: \" + gameSpeed;\n",
    "    }\n",
    "  }\n",
    "</script>"
   ]
  },
  {
   "cell_type": "markdown",
   "metadata": {},
   "source": [
    "### <span style=\"color: blue; text-shadow: 2px 2px 5px blue;\">Explantion</span>\n",
    "- HTML Elements as DOM Nodes: The HTML elements (divs, input, button) become nodes in the DOM tree.\n",
    "- Accessing Elements: JavaScript accesses these elements using methods like document.getElementById().\n",
    "- Event Handling: The onclick attribute in the button triggers the JavaScript function submitSpeed().\n",
    "- Manipulating Content: The function updates the content of the output and error divs dynamically based on the input value and validation result."
   ]
  },
  {
   "cell_type": "markdown",
   "metadata": {},
   "source": [
    "#### <span style=\"color: blue; text-shadow: 2px 2px 5px blue;\">Conclusion</span>\n",
    "At the End of DOM is a crucial life saver because\n",
    "- Dynamic Content: Allows for real-time updates and changes to web content.\n",
    "- User Interactivity: Enhances user experience by enabling interaction with web elements.\n",
    "- Event Handling: Manages user events like clicks, key presses, and mouse movements.\n",
    "- Efficient Updates: Enables efficient and responsive web applications without reloading the page.\n",
    "- Cross-Platform: Works across all modern web browsers, ensuring consistency.\n"
   ]
  }
 ],
 "metadata": {
  "language_info": {
   "name": "python"
  }
 },
 "nbformat": 4,
 "nbformat_minor": 2
}
