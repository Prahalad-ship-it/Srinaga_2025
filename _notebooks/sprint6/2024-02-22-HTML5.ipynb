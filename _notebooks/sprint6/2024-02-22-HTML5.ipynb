{
 "cells": [
  {
   "cell_type": "raw",
   "metadata": {
    "vscode": {
     "languageId": "raw"
    }
   },
   "source": [
    "---\n",
    "author: Srinaga Pillutla\n",
    "layout: post\n",
    "title: HTML5\n",
    "description: A blog understanding about HTML5 input and output\n",
    "permalink: sprint6/HTML5\n",
    "toc: true\n",
    "comments: true\n",
    "categories: [sprint6]\n",
    "---"
   ]
  },
  {
   "cell_type": "markdown",
   "metadata": {},
   "source": [
    "# <span style=\"color: blue; text-shadow: 2px 2px 5px pink;\">What is HTML 5 input and output and usages</span> \n",
    "\n",
    "- HTML5 introduces new input types to enhance user experience and form validation.\n",
    "    - Text Input: Standard single-line text input.\n",
    "    - Email Input: Validates that the input is a valid email address.\n",
    "    - URL Input: Validates that the input is a valid URL.\n",
    "    - Number Input: Accepts only numerical values.\n",
    "    - Range Input: Provides a slider control for selecting a value within a range.\n",
    "    - Date Input: Allows users to select a date from a date picker.\n",
    "    - Time Input: Allows users to select a time from a time picker.\n",
    "    - Color Input: Provides a color picker for selecting a color.\n",
    "    - Telephone Input: Validates that the input is a valid telephone number.\n",
    "    - Search Input: Provides a search field with specialized features, such as the ability to clear the field.\n",
    "\n",
    "- HTML 5 Output:\n",
    "The <output> element in HTML5 is used to represent the result of a calculation or a user action. It’s especially useful when you want to display results dynamically based on user inputs. This element is often used within forms.\n",
    "\n",
    "- Key Points:\n",
    "    - Purpose: Displays the result of a calculation.\n",
    "    - Attributes: Can use the for attribute to specify which elements the output is associated with.\n",
    "    - Usage: Often found in forms to show the result of user inputs or calculations."
   ]
  },
  {
   "cell_type": "markdown",
   "metadata": {},
   "source": [
    "HTML5 are useful cause it reduces amount of code it uses in the JavaScript an example can be found here "
   ]
  },
  {
   "cell_type": "code",
   "execution_count": null,
   "metadata": {
    "vscode": {
     "languageId": "html"
    }
   },
   "outputs": [],
   "source": [
    "%%html \n",
    "<!-- Input definitions -->\n",
    "<div>\n",
    "  <label for=\"speed\">Adjust Speed (1-5):</label>\n",
    "  <input type=\"number\" id=\"speed\" name=\"speed\" min=\"1\" max=\"5\" value=\"2\">\n",
    "  <button onclick=\"submitSpeed()\">Submit</button>\n",
    "</div>\n",
    "\n",
    "<!-- Document Object Model (DOM) output locations -->\n",
    "<div id=\"output\"></div>\n",
    "<div id=\"error\"></div>\n",
    "\n",
    "<script>\n",
    "  // Function to validate and output the game speed value\n",
    "  function submitSpeed() {\n",
    "    let gameSpeed = document.getElementById('speed').value;\n",
    "    \n",
    "    // Ensure the value is within the allowed range\n",
    "    if (gameSpeed < 1 || gameSpeed > 5) {\n",
    "      // Set/clear output messages when there is an error\n",
    "      document.getElementById('output').innerHTML = \"\";\n",
    "      // Output an error message to the console\n",
    "      console.error(\"Invalid game speed value:\", gameSpeed);\n",
    "      // Output an error message to the HTML page\n",
    "      document.getElementById('error').innerHTML = \"Invalid game speed value: \" + gameSpeed;\n",
    "    } else {\n",
    "      // Set/clear error messages when the value is valid\n",
    "      document.getElementById('error').innerHTML = \"\";\n",
    "      // Output the game speed value to the console\n",
    "      console.log(\"Game speed set to:\", gameSpeed);\n",
    "      // Output the game speed value to the HTML page\n",
    "      document.getElementById('output').innerHTML = \"Game speed set to: \" + gameSpeed;\n",
    "    }\n",
    "  }\n",
    "</script>"
   ]
  },
  {
   "cell_type": "markdown",
   "metadata": {
    "vscode": {
     "languageId": "raw"
    }
   },
   "source": [
    "- Input Elements\n",
    "    - Number Input: An input element with type number for adjusting the game speed.\n",
    "    - Submit Button: A button element that, when clicked, calls the submitSpeed() function.\n",
    "\n",
    "- Output Elements\n",
    "    - Output Divs: Two div elements with id=\"output\" and id=\"error\" for displaying the game speed and error messages, respectively."
   ]
  },
  {
   "cell_type": "markdown",
   "metadata": {},
   "source": [
    "## <span style=\"color: blue; text-shadow: 2px 2px 5px pink;\">Conclusion</span> \n",
    "\n",
    "- Importance of HTML5 Input Elements\n",
    "    - Enhanced User Experience: New input types like date, color, range.\n",
    "    - Improved Form Handling: Built-in validation and attributes.\n",
    "    - Reduced JavaScript Dependency: More built-in features, less custom code.\n",
    "\n",
    "- Importance of HTML5 Output Element\n",
    "    - Real-Time Feedback: Displays results dynamically.\n",
    "    - Enhanced Interactivity: Makes web apps more engaging.\n",
    "    - Accessibility: Improves accessibility for all users.\n",
    "\n",
    "\n"
   ]
  }
 ],
 "metadata": {
  "language_info": {
   "name": "python"
  }
 },
 "nbformat": 4,
 "nbformat_minor": 2
}
