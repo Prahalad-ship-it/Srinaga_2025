{
 "cells": [
  {
   "cell_type": "raw",
   "metadata": {
    "vscode": {
     "languageId": "raw"
    }
   },
   "source": [
    "---\n",
    "author: Srinaga Pillutla\n",
    "layout: post\n",
    "title: HTML5\n",
    "description: A blog understanding about HTML5 input and output\n",
    "permalink: sprint6/HTML5\n",
    "toc: true\n",
    "comments: true\n",
    "categories: [sprint6]\n",
    "---"
   ]
  },
  {
   "cell_type": "markdown",
   "metadata": {},
   "source": [
    "# <span style=\"color: blue; text-shadow: 2px 2px 5px pink;\">What is HTML 5 input and output and usages</span> \n",
    "\n",
    "- HTML5 introduces new input types to enhance user experience and form validation.\n",
    "    - Text Input: Standard single-line text input.\n",
    "    - Email Input: Validates that the input is a valid email address.\n",
    "    - URL Input: Validates that the input is a valid URL.\n",
    "    - Number Input: Accepts only numerical values.\n",
    "    - Range Input: Provides a slider control for selecting a value within a range.\n",
    "    - Date Input: Allows users to select a date from a date picker.\n",
    "    - Time Input: Allows users to select a time from a time picker.\n",
    "    - Color Input: Provides a color picker for selecting a color.\n",
    "    - Telephone Input: Validates that the input is a valid telephone number.\n",
    "    - Search Input: Provides a search field with specialized features, such as the ability to clear the field.\n",
    "\n",
    "- HTML 5 Output:\n",
    "The <output> element in HTML5 is used to represent the result of a calculation or a user action. It’s especially useful when you want to display results dynamically based on user inputs. This element is often used within forms.\n",
    "\n",
    "- Key Points:\n",
    "    - Purpose: Displays the result of a calculation.\n",
    "    - Attributes: Can use the for attribute to specify which elements the output is associated with.\n",
    "    - Usage: Often found in forms to show the result of user inputs or calculations."
   ]
  },
  {
   "cell_type": "markdown",
   "metadata": {},
   "source": [
    "HTML5 are useful cause it reduces amount of code it uses in the JavaScript an example can be found here "
   ]
  },
  {
   "cell_type": "code",
   "execution_count": null,
   "metadata": {
    "vscode": {
     "languageId": "html"
    }
   },
   "outputs": [],
   "source": [
    "<!DOCTYPE html>\n",
    "<html lang=\"en\">\n",
    "<head>\n",
    "    <meta charset=\"UTF-8\">\n",
    "    <meta name=\"viewport\" content=\"width=device-width, initial-scale=1.0\">\n",
    "    <title>Game Example</title>\n",
    "</head>\n",
    "<body>\n",
    "    <h1>Character Customization</h1>\n",
    "    <form id=\"characterForm\" oninput=\"characterResult.value = 'Name: ' + characterName.value + ', Color: ' + characterColor.value + ', Strength: ' + characterStrength.value\">\n",
    "        <label for=\"characterName\">Character Name:</label>\n",
    "        <input type=\"text\" id=\"characterName\" name=\"characterName\" required><br><br>\n",
    "        \n",
    "        <label for=\"characterColor\">Character Color:</label>\n",
    "        <input type=\"color\" id=\"characterColor\" name=\"characterColor\"><br><br>\n",
    "\n",
    "        <label for=\"characterStrength\">Strength:</label>\n",
    "        <input type=\"range\" id=\"characterStrength\" name=\"characterStrength\" min=\"1\" max=\"100\"><br><br>\n",
    "        \n",
    "        <label for=\"characterResult\">Character Details:</label>\n",
    "        <output id=\"characterResult\" name=\"characterResult\"></output><br><br>\n",
    "        \n",
    "        <input type=\"submit\" value=\"Save\">\n",
    "    </form>\n",
    "    <script>\n",
    "        // Handle form submission\n",
    "        document.getElementById('characterForm').addEventListener('submit', function(event) {\n",
    "            event.preventDefault();\n",
    "            var characterName = document.getElementById('characterName').value;\n",
    "            var characterColor = document.getElementById('characterColor').value;\n",
    "            var characterStrength = document.getElementById('characterStrength').value;\n",
    "            alert('Character Created:\\nName: ' + characterName + '\\nColor: ' + characterColor + '\\nStrength: ' + characterStrength);\n",
    "        });\n",
    "    </script>\n",
    "</body>\n",
    "</html>\n"
   ]
  },
  {
   "cell_type": "markdown",
   "metadata": {
    "vscode": {
     "languageId": "raw"
    }
   },
   "source": [
    "- Input Elements\n",
    "    - Character Name: A text input for entering the character's name. This field is required.\n",
    "    - Character Color: A color picker input for selecting the character's color.\n",
    "    - Character Strength: A range (slider) input for selecting the character's strength level.\n",
    "\n",
    "- Output Element\n",
    "    - Character Details: An output element that displays the character's details (name, color, strength) dynamically based on the input values provided by the user."
   ]
  },
  {
   "cell_type": "markdown",
   "metadata": {},
   "source": [
    "## <span style=\"color: blue; text-shadow: 2px 2px 5px pink;\">Conclusion</span> \n",
    "\n",
    "- Importance of HTML5 Input Elements\n",
    "    - Enhanced User Experience: New input types like date, color, range.\n",
    "    - Improved Form Handling: Built-in validation and attributes.\n",
    "    - Reduced JavaScript Dependency: More built-in features, less custom code.\n",
    "\n",
    "- Importance of HTML5 Output Element\n",
    "    - Real-Time Feedback: Displays results dynamically.\n",
    "    - Enhanced Interactivity: Makes web apps more engaging.\n",
    "    - Accessibility: Improves accessibility for all users.\n",
    "\n",
    "\n"
   ]
  }
 ],
 "metadata": {
  "language_info": {
   "name": "python"
  }
 },
 "nbformat": 4,
 "nbformat_minor": 2
}
