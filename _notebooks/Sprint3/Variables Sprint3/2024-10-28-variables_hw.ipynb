{
 "cells": [
  {
   "cell_type": "markdown",
   "metadata": {},
   "source": [
    "# <span style=\"color: lavender; text-shadow: 2px 2px 5px lavender;\">Variables Homework (Show what you know!) </span>\n",
    "\n",
    "### Homework Problem: Understanding JavaScript Variables \n",
    "\n",
    "### <span style=\"color: pink; text-shadow: 2px 2px 5px pink;\"> Creating Variables</span>\n",
    "\n",
    "\n",
    "1. **Create three variables as an object variable**:\n",
    "   - A variable called `studentName` that stores your name as a string.\n",
    "   - A variable called `age` that stores your age as a number.\n",
    "   - A variable called `isStudent` that stores a boolean value indicating whether you are a student (use `true` or `false`).\n",
    "\n",
    "   2. **Create a function variable that displays that your favorite song is playing**:\n",
    "   \n",
    "      - A variable called `favoriteSong` that stores the name of your favorite song.\n",
    "      - A variable called `songArtist` that stores the song's artist.\n",
    "      - A function called `playFavoriteSong` that logs a message saying \"Now playing [favoriteSong] by [songArtist]\".\n",
    "\n",
    "\n",
    "\n",
    "3. **Using the variables you created**, write a sentence using `console.log()` to display:\n",
    "   - Your name.\n",
    "   - Your age.\n",
    "   - Whether you are a student.\n",
    "   - An output that states that your favorite song is now playing\n",
    "\n",
    "\n",
    "   Example output:\n",
    "My name is [Your Name], I am [Your Age] years old, and it is [true/false] that I am a student. \n",
    "Now playing Champion by Kanye West"
   ]
  },
  {
   "cell_type": "code",
   "execution_count": null,
   "metadata": {},
   "outputs": [
    {
     "data": {
      "application/javascript": "let character = {\n    Name: \"Srinaga Pillutla\",  \n    Age: 14,                   \n    isStudent: true          \n};\n\nlet songName = \"Luka Chuppi\";\nlet artistName = \"Lata Mangeshkar\";\n\nfunction playFavoriteSong(song, artist) {\n    return `Now playing ${song} by ${artist}`;\n}\nconsole.log(`My name is ${character.Name}, I am ${character.Age} years old, and it is ${character.isStudent} that I am a student.`);\nconsole.log(playFavoriteSong(songName, artistName));\n\n\n\n\n\n\n",
      "text/plain": [
       "<IPython.core.display.Javascript object>"
      ]
     },
     "metadata": {},
     "output_type": "display_data"
    }
   ],
   "source": [
    "%%js \n",
    "let character = {\n",
    "    Name: \"Srinaga Pillutla\",  \n",
    "    Age: 14,                   \n",
    "    isStudent: true          \n",
    "};\n",
    "\n",
    "let songName = \"Luka Chuppi\";\n",
    "let artistName = \"Lata Mangeshkar\";\n",
    "\n",
    "function playFavoriteSong(song, artist) {\n",
    "    return `Now playing ${song} by ${artist}`;\n",
    "\n",
    "console.log(`My name is ${character.Name}, I am ${character.Age} years old, and it is ${character.isStudent} that I am a student.`);\n",
    "console.log(playFavoriteSong(songName, artistName));\n",
    "\n",
    "\n",
    "\n",
    "\n",
    "\n",
    "\n"
   ]
  }
 ],
 "metadata": {
  "kernelspec": {
   "display_name": "Python 3 (ipykernel)",
   "language": "python",
   "name": "python3"
  }
 },
 "nbformat": 4,
 "nbformat_minor": 2
}
