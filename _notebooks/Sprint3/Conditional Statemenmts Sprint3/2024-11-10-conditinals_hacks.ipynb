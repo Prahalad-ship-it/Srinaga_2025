{
 "cells": [
  {
   "cell_type": "raw",
   "metadata": {
    "vscode": {
     "languageId": "raw"
    }
   },
   "source": [
    "---\n",
    "comments: True\n",
    "layout: post\n",
    "title: conditionals lesson hacks\n",
    "description: conditionals hacks\n",
    "permalink: /csse/javascript/fundamentals/conditionals/hacks\n",
    "type: ccc\n",
    "---"
   ]
  },
  {
   "cell_type": "markdown",
   "metadata": {},
   "source": [
    "#### <span style=\"color: #ADD8E6; text-shadow: 3px 3px 8px #4682B4; font-weight: bold; font-size: 2em;\">Popcorn Hacks:</span>\n",
    "Develop a basic combat system that allows characters to engage in battles with enemies. This will help you practice using functions, conditionals, and basic game mechanics in JavaScript.\n",
    "\n",
    "---\n",
    "##### <span style=\"color: #FF6347; text-shadow: 2px 2px 6px #8B0000; font-weight: bold; font-size: 1.5em;\">Popcorn Hack Part 1 - 1: Using <code>initializeData</code> Function</span> \n",
    "\n",
    "1. Add `speed` to the <code>initializeData(data = null)</code> function and give it a default value.\n",
    "2. Add `seed` to the HTML output.\n",
    "3. Add `speed` to the JSON data.\n",
    "4. Test calling <code>initializeData</code> with no argument, and then using a `data` JSON object as an argument.\n",
    "\n",
    "##### <span style=\"color: #FF6347; text-shadow: 2px 2px 6px #8B0000; font-weight: bold; font-size: 1.5em;\">Popcorn Hack Part 1 - 2: Adding IJKL Key Conditions in <code>handleKeyDown</code></span> \n",
    "\n",
    "1. Add a `case` statement for each of the IJKL keys in the `handleKeyDown({ keyCode })` switch statement.\n",
    "2. Send the key code for each IJKL key to the <code>gameObject.handleKeyDown</code> method.\n",
    "3. Use <code>console.log()</code> to output `gameObject`.\n",
    "\n",
    "---\n",
    "\n",
    "##### <span style=\"color: #FF6347; text-shadow: 2px 2px 6px #8B0000; font-weight: bold; font-size: 1.5em;\">Popcorn Hack 2: Creating a Simple Attack System</span>\n",
    "1. Add a <code>boolean</code> variable named <code>canAttack</code>, and set it to <code>false</code>.\n",
    "2. Use an <code>if</code> statement to check if the player can attack.\n",
    "3. If <code>canAttack</code> is <code>false</code>, output \"Can't attack.\"\n",
    "4. Use <code>Math.random()</code> to determine if the player is allowed to attack. (Tip: Use ChatGPT for help with <code>Math.random()</code> if needed!)\n",
    "5. This will pick a random number to decide if the attack can happen.\n",
    "6. Use <code>console.log()</code> for all outputs.\n",
    "\n",
    "---\n",
    "\n",
    "##### <span style=\"color: #FF6347; text-shadow: 2px 2px 6px #8B0000; font-weight: bold; font-size: 1.5em;\">Popcorn Hack 3: Level Requirement Check</span>\n",
    "1. Use the <code>ternary operator</code> to create an output if the player meets the level requirements.\n",
    "2. If not, output a message telling the player they are under-leveled.\n",
    "3. Use <code>console.log()</code> to print your output."
   ]
  },
  {
   "cell_type": "code",
   "execution_count": null,
   "metadata": {
    "vscode": {
     "languageId": "javascript"
    }
   },
   "outputs": [],
   "source": [
    "%%js\n",
    "\n",
    "class GameObject {\n",
    "    constructor() {\n",
    "        this.velocity = { x: 0, y: 0 };\n",
    "        this.direction = '';\n",
    "        this.xVelocity = 1;\n",
    "        this.yVelocity = 1;\n",
    "    }\n",
    "\n",
    "    handleKeyDown({ keyCode }) {\n",
    "        switch (keyCode) {\n",
    "            case 87: // 'I' key\n",
    "                this.direction = 'up';\n",
    "                break;\n",
    "            case 65: // 'J' key\n",
    "                this.direction = 'left';\n",
    "                break;\n",
    "            case 83: // 'K' key\n",
    "                this.direction = 'down';\n",
    "                break;\n",
    "            case 68: // 'L' key\n",
    "                this.direction = 'right';\n",
    "                break;\n",
    "        }\n",
    "    }\n",
    "}\n",
    "\n",
    "// Example usage\n",
    "const gameObject = new GameObject();\n",
    "console.log('Initial State:', gameObject);\n",
    "\n",
    "gameObject.handleKeyDown({ keyCode: 87 }); // Simulate 'W' key press\n",
    "console.log('After W Key Press:', gameObject);\n",
    "\n",
    "gameObject.handleKeyDown({ keyCode: 65 }); // Simulate 'A' key press\n",
    "console.log('After A Key Press:', gameObject);\n",
    "\n",
    "gameObject.handleKeyDown({ keyCode: 83 }); // Simulate 'S' key press\n",
    "console.log('After S Key Press:', gameObject);\n",
    "\n",
    "gameObject.handleKeyDown({ keyCode: 68 }); // Simulate 'D' key press\n",
    "console.log('After D Key Press:', gameObject);"
   ]
  },
  {
   "cell_type": "code",
   "execution_count": 2,
   "metadata": {
    "vscode": {
     "languageId": "javascript"
    }
   },
   "outputs": [
    {
     "data": {
      "application/javascript": "\nlet canAttack = false;\n\n// 2. Use an if statement to check if the player can attack.\nif (canAttack === false) {\n  // 3. If canAttack is false, output \"Can't attack.\"\n  console.log(\"Can't attack.\");\n} else {\n  // 4. Use Math.random() to determine if the player is allowed to attack.\n  let randomNum = Math.random();\n\n  // 5. This will pick a random number to decide if the attack can happen.\n  if (randomNum < 0.5) {\n    console.log(\"Attack successful!\");\n  } else {\n    console.log(\"Attack missed.\");\n  }\n}\n",
      "text/plain": [
       "<IPython.core.display.Javascript object>"
      ]
     },
     "metadata": {},
     "output_type": "display_data"
    }
   ],
   "source": [
    "%%js \n",
    "\n",
    "let canAttack = false;\n",
    "\n",
    "// 2. Use an if statement to check if the player can attack.\n",
    "if (canAttack === false) {\n",
    "  // 3. If canAttack is false, output \"Can't attack.\"\n",
    "  console.log(\"Can't attack.\");\n",
    "} else {\n",
    "  // 4. Use Math.random() to determine if the player is allowed to attack.\n",
    "  let randomNum = Math.random();\n",
    "\n",
    "  // 5. This will pick a random number to decide if the attack can happen.\n",
    "  if (randomNum < 0.5) {\n",
    "    console.log(\"Attack successful!\");\n",
    "  } else {\n",
    "    console.log(\"Attack missed.\");\n",
    "  }\n",
    "}\n"
   ]
  },
  {
   "cell_type": "code",
   "execution_count": 6,
   "metadata": {
    "vscode": {
     "languageId": "javascript"
    }
   },
   "outputs": [
    {
     "data": {
      "application/javascript": "let playerLevel = 12;\nlet requiredLevel = 15;\n\nlet output = playerLevel >= requiredLevel ? \nconsole.log(output);\n",
      "text/plain": [
       "<IPython.core.display.Javascript object>"
      ]
     },
     "metadata": {},
     "output_type": "display_data"
    }
   ],
   "source": [
    "%%js \n",
    "let playerLevel = 12;\n",
    "let requiredLevel = 15;\n",
    "\n",
    "let output = playerLevel >= requiredLevel ? \n",
    "console.log(output);"
   ]
  },
  {
   "cell_type": "markdown",
   "metadata": {},
   "source": [
    "<!-- Homework Section with Enhanced Glowing Title -->\n",
    "\n",
    "### <span style=\"color: #78C0E0; text-shadow: 0 0 10px #1E3D59, 0 0 20px #1E3D59; font-weight: bold; font-size: 2em;\">Homework:</span>\n",
    "\n",
    "#### <span style=\"color: #FFA07A; text-shadow: 0 0 8px #3C3C3C, 0 0 15px #3C3C3C; font-weight: bold; font-size: 1.5em;\">Objectives</span>\n",
    "\n",
    "<span style=\"font-size: 1.2em; color: #E5E5E5; line-height: 1.8;\">\n",
    "  <br><strong style=\"color: #FFD700;\">Option 1:</strong> <span style=\"color: #C0C0C0;\">Create a simple combat system.</span>\n",
    "  <ul style=\"color: #D3D3D3; margin-left: 20px; list-style-type: circle;\">\n",
    "    <li>Allow characters to fight enemies.</li>\n",
    "    <li>Use basic functions and conditionals in JavaScript.</li>\n",
    "    <li>Focus on making it easy to understand how battles work.</li>\n",
    "  </ul>\n",
    "\n",
    "  <br>\n",
    "  <strong style=\"color: #FFD700;\">Option 2:</strong> <span style=\"color: #C0C0C0;\">Make a dialogue system for your NPC (Non-Player Character).</span>\n",
    "  <ul style=\"color: #D3D3D3; margin-left: 20px; list-style-type: circle;\">\n",
    "    <li>Use the <code style=\"color: #7FFFD4;\">prompt()</code> function to ask the player for a response (choose a number from 1 to 4).</li>\n",
    "    <li>This dialogue should appear when the player gets close to the NPC and presses a button.</li>\n",
    "  </ul>\n",
    "</span>\n",
    "\n",
    "### <span style=\"color: #FFA07A; text-shadow: 1px 1px 6px #3C3C3C; font-weight: bold;\">Additional Tips:</span>\n",
    "- <span style=\"color: #FFD700;\">**For Option 1:**</span>\n",
    "  <ul style=\"color: #D3D3D3; margin-left: 20px; list-style-type: square;\">\n",
    "    <li>Start by writing down what the characters and enemies will be. Create simple names and attributes (like health).</li>\n",
    "    <li>Use <code style=\"color: #7FFFD4;\">console.log()</code> to print out what's happening at each step. This will help you understand the flow of your code.</li>\n",
    "    <li>Look for example code online to see how others have created combat systems. Don't be afraid to borrow ideas!</li>\n",
    "  </ul>\n",
    "\n",
    "- <span style=\"color: #FFD700;\">**For Option 2:**</span>\n",
    "  <ul style=\"color: #D3D3D3; margin-left: 20px; list-style-type: square;\">\n",
    "    <li>Plan out the dialogue options before you start coding. Write them down in a list.</li>\n",
    "    <li>Use comments in your code to remind yourself what each part does. For example, <code style=\"color: #7FFFD4;\">// Ask the player for a response</code>.</li>\n",
    "    <li>Test your code frequently. After writing a few lines, run it to see if it works before adding more.</li>\n",
    "  </ul>"
   ]
  },
  {
   "cell_type": "code",
   "execution_count": null,
   "metadata": {
    "vscode": {
     "languageId": "javascript"
    }
   },
   "outputs": [
    {
     "data": {
      "application/javascript": "const character = {\n    name: \"Grizzly Bear\",\n    hp: 100,\n    attack: 10,\n    defense: 5,\n};\n\nconst enemy = {\n    name: \"Hunter The Koser\",\n    hp: 100,\n    attack: 8,\n    defense: 3,\n};\n\nfunction calculateDamage(attacker, defender) {\n    const damage = attacker.attack - defender.defense;\n    return damage > 0 ? damage : 0;\n}\n\nfunction battle() {\n    while (character.hp > 0 && enemy.hp > 0) {\n        const damageToEnemy = calculateDamage(character, enemy);\n        enemy.hp -= damageToEnemy;\n        console.log(`${character.name} attacks ${enemy.name} for ${damageToEnemy} damage.`);\n\n        const damageToCharacter = calculateDamage(enemy, character);\n        character.hp -= damageToCharacter;\n        console.log(`${enemy.name} attacks ${character.name} for ${damageToCharacter} damage.`);\n\n        if (character.hp <= 0) {\n            console.log(`${character.name} has been defeated!`);\n        } else if (enemy.hp <= 0) {\n            console.log(`${enemy.name} has been defeated!`);\n        }\n    }\n}\n\nbattle();\n",
      "text/plain": [
       "<IPython.core.display.Javascript object>"
      ]
     },
     "metadata": {},
     "output_type": "display_data"
    }
   ],
   "source": [
    "%%js \n",
    "const character = {\n",
    "    name: \"Grizzly Bear the Destroyer of Gyat\",\n",
    "    hp: 100,\n",
    "    attack: 10,\n",
    "    defense: 5,\n",
    "};\n",
    "\n",
    "const enemy = {\n",
    "    name: \"Hunter The Koser\",\n",
    "    hp: 100,\n",
    "    attack: 8,\n",
    "    defense: 3,\n",
    "};\n",
    "\n",
    "function calculateDamage(attacker, defender) {\n",
    "    const damage = attacker.attack - defender.defense;\n",
    "    return damage > 0 ? damage : 0;\n",
    "}\n",
    "\n",
    "function battle() {\n",
    "    while (character.hp > 0 && enemy.hp > 0) {\n",
    "        const damageToEnemy = calculateDamage(character, enemy);\n",
    "        enemy.hp -= damageToEnemy;\n",
    "        console.log(`${character.name} attacks ${enemy.name} for ${damageToEnemy} damage.`);\n",
    "\n",
    "        const damageToCharacter = calculateDamage(enemy, character);\n",
    "        character.hp -= damageToCharacter;\n",
    "        console.log(`${enemy.name} attacks ${character.name} for ${damageToCharacter} damage.`);\n",
    "\n",
    "        if (character.hp <= 0) {\n",
    "            console.log(`${character.name} has been defeated!`);\n",
    "        } else if (enemy.hp <= 0) {\n",
    "            console.log(`${enemy.name} has been defeated!`);\n",
    "        }\n",
    "    }\n",
    "}\n",
    "\n",
    "battle();\n"
   ]
  }
 ],
 "metadata": {
  "kernelspec": {
   "display_name": "Python 3 (ipykernel)",
   "language": "python",
   "name": "python3"
  }
 },
 "nbformat": 4,
 "nbformat_minor": 2
}
