{
 "cells": [
  {
   "cell_type": "code",
   "execution_count": null,
   "metadata": {},
   "outputs": [],
   "source": [
    "---\n",
    "comments: True\n",
    "layout: post\n",
    "title: Data Abstraction Hacks\n",
    "description: An intro to data abstraction\n",
    "permalink: /csse/javascript/fundamentals/data-abstraction-hacks\n",
    "categories: [CSSE JavaScript Fundamentals]\n",
    "---"
   ]
  },
  {
   "cell_type": "markdown",
   "metadata": {},
   "source": [
    "# Popcorn Hack #1\n",
    "Create a child class of the class **Appliance**, and call it's returnName() function"
   ]
  },
  {
   "cell_type": "code",
   "execution_count": 19,
   "metadata": {
    "vscode": {
     "languageId": "javascript"
    }
   },
   "outputs": [
    {
     "data": {
      "application/javascript": "    class Appliance {\n        constructor(name) {\n            this.name = name;\n        }\n        name() {\n            return \"I am a \" + this.constructor.name + \" and my model is \" + this.name;\n        }\n    }\n    // Below this name the class and cause it to inherit from the Appliance class\n    class XXXX{\n        constructor(name) {\n            super(name);\n    }\n        \n    }\n",
      "text/plain": [
       "<IPython.core.display.Javascript object>"
      ]
     },
     "metadata": {},
     "output_type": "display_data"
    }
   ],
   "source": [
    "%%js \n",
    "    class Appliance {\n",
    "        constructor(name) {\n",
    "            this.name = name;\n",
    "        }\n",
    "        returnName() {\n",
    "            return \"I am a \" + this.constructor.name + \" and my model is \" + this.name;\n",
    "        }\n",
    "    }\n",
    "    // Below this name the class and cause it to inherit from the Appliance class\n",
    "    class XXXX{\n",
    "        constructor(name) {\n",
    "            super(name);\n",
    "    }\n",
    "        \n",
    "    }"
   ]
  },
  {
   "cell_type": "code",
   "execution_count": 9,
   "metadata": {
    "vscode": {
     "languageId": "javascript"
    }
   },
   "outputs": [
    {
     "data": {
      "application/javascript": "class Appliance {\n    constructor(name) {\n        this.name = name;\n    }\n    returnName() {\n        return \"I am a \" + this.constructor.name + \" and my model is \" + this.name;\n    }\n}\n\n// Create a child class of Appliance and call its returnName() function\nclass Microwave extends Appliance {\n    constructor(name) {\n        super(name);\n    }\n}\n\n// Instantiate the child class and call returnName()\nlet myMicrowave = new Microwave(\"Samsung MW5000\");\nconsole.log(myMicrowave.returnName());\n\n",
      "text/plain": [
       "<IPython.core.display.Javascript object>"
      ]
     },
     "metadata": {},
     "output_type": "display_data"
    }
   ],
   "source": [
    "%%js  \n",
    "class Appliance {\n",
    "    constructor(name) {\n",
    "        this.name = name;\n",
    "    }\n",
    "    returnName() {\n",
    "        return \"I am a \" + this.constructor.name + \" and my model is \" + this.name;\n",
    "    }\n",
    "}\n",
    "\n",
    "// Create a child class of Appliance and call its returnName() function\n",
    "class Microwave extends Appliance {\n",
    "    constructor(name) {\n",
    "        super(name);\n",
    "    }\n",
    "}\n",
    "\n",
    "// Instantiate the child class and call returnName()\n",
    "let myMicrowave = new Microwave(\"Samsung MW5000\");\n",
    "console.log(myMicrowave.returnName());\n",
    "\n"
   ]
  },
  {
   "cell_type": "markdown",
   "metadata": {},
   "source": [
    "### Popcorn Hack #2\n",
    "Create child classes of the product class with items, and add parameters depending on what it is. An example is provided of a bagel."
   ]
  },
  {
   "cell_type": "code",
   "execution_count": 6,
   "metadata": {
    "vscode": {
     "languageId": "javascript"
    }
   },
   "outputs": [
    {
     "data": {
      "application/javascript": "    class Product{z\n        constructor(price,size,taxRate) {\n            this.price = price;\n            this.size = size;\n            this.taxRate = taxRate;\n        }   \n        getPrice() {\n            return this.price + this.taxRate * this.price;\n        }\n        product(){\n            const className = this.constructor.name.toLowerCase();\n            // Does not use and assuming that more parameteres will be added\n            return \"You are ordering a \" + className + \" with a price of \" + this.getPrice() + \" dollars, a size of \" + this.size;\n        }\n    }\n    class Bagel extends Product{\n        constructor(price, size, taxRate, flavor) {\n            super(price, size, taxRate);\n            this.flavor = flavor;\n        }\n        getPrice(){\n            return super.getPrice() * this.size;\n        }\n        product(){\n            return super.product() + \" and a flavor of \" + this.flavor;\n        }\n    }\nvar sesameBagel = new Bagel(1.5, 2, 0.07, \"sesame\");\nconsole.log(sesameBagel.product());\n",
      "text/plain": [
       "<IPython.core.display.Javascript object>"
      ]
     },
     "metadata": {},
     "output_type": "display_data"
    }
   ],
   "source": [
    "%%js\n",
    "    class Product{z\n",
    "        constructor(price,size,taxRate) {\n",
    "            this.price = price;\n",
    "            this.size = size;\n",
    "            this.taxRate = taxRate;\n",
    "        }   \n",
    "        getPrice() {\n",
    "            return this.price + this.taxRate * this.price;\n",
    "        }\n",
    "        product(){\n",
    "            const className = this.constructor.name.toLowerCase();\n",
    "            // Does not use and assuming that more parameteres will be added\n",
    "            return \"You are ordering a \" + className + \" with a price of \" + this.getPrice() + \" dollars, a size of \" + this.size;\n",
    "        }\n",
    "    }\n",
    "    class Bagel extends Product{\n",
    "        constructor(price, size, taxRate, flavor) {\n",
    "            super(price, size, taxRate);\n",
    "            this.flavor = flavor;\n",
    "        }\n",
    "        getPrice(){\n",
    "            return super.getPrice() * this.size;\n",
    "        }\n",
    "        product(){\n",
    "            return super.product() + \" and a flavor of \" + this.flavor;\n",
    "        }\n",
    "    }\n",
    "var sesameBagel = new Bagel(1.5, 2, 0.07, \"sesame\");\n",
    "console.log(sesameBagel.product());"
   ]
  },
  {
   "cell_type": "code",
   "execution_count": 14,
   "metadata": {
    "vscode": {
     "languageId": "javascript"
    }
   },
   "outputs": [
    {
     "data": {
      "application/javascript": "class Product {\n    constructor(price, size, taxRate) {\n        this.price = price;\n        this.size = size;\n        this.taxRate = taxRate;\n    }\n    getPrice() {\n        return this.price + this.taxRate * this.price;\n    }\n    product() {\n        const className = this.constructor.name.toLowerCase();\n        return \"You are ordering a \" + className + \" with a price of \" + this.getPrice() + \" dollars, a size of \" + this.size;\n    }\n}\n\nclass Bagel extends Product {\n    constructor(price, size, taxRate, flavor) {\n        super(price, size, taxRate);\n        this.flavor = flavor;\n    }\n    getPrice() {\n        return super.getPrice() * this.size;\n    }\n    product() {\n        return super.product() + \" and a flavor of \" + this.flavor;\n    }\n}\n\nclass Coffee extends Product {\n    constructor(price, size, taxRate, roastType) {\n        super(price, size, taxRate);\n        this.roastType = roastType;\n    }\n    product() {\n        return super.product() + \" and a roast type of \" + this.roastType;\n    }\n}\n\nclass Laptop extends Product {\n    constructor(price, size, taxRate, brand, memory) {\n        super(price, size, taxRate);\n        this.brand = brand;\n        this.memory = memory; \n    }\n    product() {\n        return super.product() + \", brand: \" + this.brand + \", and memory: \" + this.memory + \"GB\";\n    }\n}\n\nconst turkeyBagel = new Bagel(1.5, 2, 0.07, \"turkey\");\nconsole.log(turkeyBagel.product());\n\nconst darkRoastCoffee = new Coffee(3, \"medium\", 0.07, \"dark roast\");\nconsole.log(darkRoastCoffee.product());\n\nconst macbook = new Laptop(1500, \"13 inch\", 0.1, \"Apple\", 16);\nconsole.log(macbook.product());\n\n",
      "text/plain": [
       "<IPython.core.display.Javascript object>"
      ]
     },
     "metadata": {},
     "output_type": "display_data"
    }
   ],
   "source": [
    "%%js \n",
    "class Product {\n",
    "    constructor(price, size, taxRate) {\n",
    "        this.price = price;\n",
    "        this.size = size;\n",
    "        this.taxRate = taxRate;\n",
    "    }\n",
    "    getPrice() {\n",
    "        return this.price + this.taxRate * this.price;\n",
    "    }\n",
    "    product() {\n",
    "        const className = this.constructor.name.toLowerCase();\n",
    "        return \"You are ordering a \" + className + \" with a price of \" + this.getPrice() + \" dollars, a size of \" + this.size;\n",
    "    }\n",
    "}\n",
    "\n",
    "class Bagel extends Product {\n",
    "    constructor(price, size, taxRate, flavor) {\n",
    "        super(price, size, taxRate);\n",
    "        this.flavor = flavor;\n",
    "    }\n",
    "    getPrice() {\n",
    "        return super.getPrice() * this.size;\n",
    "    }\n",
    "    product() {\n",
    "        return super.product() + \" and a flavor of \" + this.flavor;\n",
    "    }\n",
    "}\n",
    "\n",
    "class Coffee extends Product {\n",
    "    constructor(price, size, taxRate, roastType) {\n",
    "        super(price, size, taxRate);\n",
    "        this.roastType = roastType;\n",
    "    }\n",
    "    product() {\n",
    "        return super.product() + \" and a roast type of \" + this.roastType;\n",
    "    }\n",
    "}\n",
    "\n",
    "class Laptop extends Product {\n",
    "    constructor(price, size, taxRate, brand, memory) {\n",
    "        super(price, size, taxRate);\n",
    "        this.brand = brand;\n",
    "        this.memory = memory; \n",
    "    }\n",
    "    product() {\n",
    "        return super.product() + \", brand: \" + this.brand + \", and memory: \" + this.memory + \"GB\";\n",
    "    }\n",
    "}\n",
    "\n",
    "const turkeyBagel = new Bagel(1.5, 2, 0.07, \"turkey\");\n",
    "console.log(turkeyBagel.product());\n",
    "\n",
    "const darkRoastCoffee = new Coffee(3, \"medium\", 0.07, \"dark roast\");\n",
    "console.log(darkRoastCoffee.product());\n",
    "\n",
    "const macbook = new Laptop(1500, \"13 inch\", 0.1, \"Apple\", 16);\n",
    "console.log(macbook.product());\n",
    "\n"
   ]
  }
 ],
 "metadata": {
  "kernelspec": {
   "display_name": "Python 3 (ipykernel)",
   "language": "python",
   "name": "python3"
  },
  "language_info": {
   "codemirror_mode": {
    "name": "ipython",
    "version": 3
   },
   "file_extension": ".py",
   "mimetype": "text/x-python",
   "name": "python",
   "nbconvert_exporter": "python",
   "pygments_lexer": "ipython3",
   "version": "3.12.3"
  }
 },
 "nbformat": 4,
 "nbformat_minor": 2
}
